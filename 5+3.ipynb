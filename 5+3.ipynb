{
 "cells": [
  {
   "cell_type": "markdown",
   "metadata": {},
   "source": [
    "# 순서도\n",
    "\n",
    "1. 이미지 경로 설정\n",
    "\n",
    "2. 오디오 길이 측정\n",
    "\n",
    "3. vfx 설정(각 함수에 맞게 오디오 설정)\n",
    "\n",
    "4. 전환 효과 설정\n",
    "\n"
   ]
  },
  {
   "cell_type": "code",
   "execution_count": 2,
   "metadata": {},
   "outputs": [
    {
     "name": "stdout",
     "output_type": "stream",
     "text": [
      "Collecting moviepy\n",
      "  Downloading moviepy-1.0.3.tar.gz (388 kB)\n",
      "     ---------------------------------------- 0.0/388.3 kB ? eta -:--:--\n",
      "     --------- ----------------------------- 92.2/388.3 kB 2.6 MB/s eta 0:00:01\n",
      "     -------------------------------------  378.9/388.3 kB 4.7 MB/s eta 0:00:01\n",
      "     -------------------------------------- 388.3/388.3 kB 4.8 MB/s eta 0:00:00\n",
      "  Installing build dependencies: started\n",
      "  Installing build dependencies: finished with status 'done'\n",
      "  Getting requirements to build wheel: started\n",
      "  Getting requirements to build wheel: finished with status 'done'\n",
      "  Preparing metadata (pyproject.toml): started\n",
      "  Preparing metadata (pyproject.toml): finished with status 'done'\n",
      "Collecting decorator<5.0,>=4.0.2 (from moviepy)\n",
      "  Downloading decorator-4.4.2-py2.py3-none-any.whl (9.2 kB)\n",
      "Requirement already satisfied: tqdm<5.0,>=4.11.2 in c:\\users\\fhsdn_6m\\appdata\\local\\packages\\pythonsoftwarefoundation.python.3.10_qbz5n2kfra8p0\\localcache\\local-packages\\python310\\site-packages (from moviepy) (4.66.1)\n",
      "Requirement already satisfied: requests<3.0,>=2.8.1 in c:\\users\\fhsdn_6m\\appdata\\local\\packages\\pythonsoftwarefoundation.python.3.10_qbz5n2kfra8p0\\localcache\\local-packages\\python310\\site-packages (from moviepy) (2.31.0)\n",
      "Collecting proglog<=1.0.0 (from moviepy)\n",
      "  Downloading proglog-0.1.10-py3-none-any.whl.metadata (639 bytes)\n",
      "Requirement already satisfied: numpy>=1.17.3 in c:\\users\\fhsdn_6m\\appdata\\local\\packages\\pythonsoftwarefoundation.python.3.10_qbz5n2kfra8p0\\localcache\\local-packages\\python310\\site-packages (from moviepy) (1.24.1)\n",
      "Collecting imageio<3.0,>=2.5 (from moviepy)\n",
      "  Downloading imageio-2.34.0-py3-none-any.whl.metadata (4.9 kB)\n",
      "Collecting imageio-ffmpeg>=0.2.0 (from moviepy)\n",
      "  Downloading imageio_ffmpeg-0.4.9-py3-none-win_amd64.whl.metadata (1.7 kB)\n",
      "Requirement already satisfied: pillow>=8.3.2 in c:\\users\\fhsdn_6m\\appdata\\local\\packages\\pythonsoftwarefoundation.python.3.10_qbz5n2kfra8p0\\localcache\\local-packages\\python310\\site-packages (from imageio<3.0,>=2.5->moviepy) (9.4.0)\n",
      "Requirement already satisfied: setuptools in c:\\program files\\windowsapps\\pythonsoftwarefoundation.python.3.10_3.10.3056.0_x64__qbz5n2kfra8p0\\lib\\site-packages (from imageio-ffmpeg>=0.2.0->moviepy) (65.5.0)\n",
      "Requirement already satisfied: charset-normalizer<4,>=2 in c:\\users\\fhsdn_6m\\appdata\\local\\packages\\pythonsoftwarefoundation.python.3.10_qbz5n2kfra8p0\\localcache\\local-packages\\python310\\site-packages (from requests<3.0,>=2.8.1->moviepy) (3.3.2)\n",
      "Requirement already satisfied: idna<4,>=2.5 in c:\\users\\fhsdn_6m\\appdata\\local\\packages\\pythonsoftwarefoundation.python.3.10_qbz5n2kfra8p0\\localcache\\local-packages\\python310\\site-packages (from requests<3.0,>=2.8.1->moviepy) (3.6)\n",
      "Requirement already satisfied: urllib3<3,>=1.21.1 in c:\\users\\fhsdn_6m\\appdata\\local\\packages\\pythonsoftwarefoundation.python.3.10_qbz5n2kfra8p0\\localcache\\local-packages\\python310\\site-packages (from requests<3.0,>=2.8.1->moviepy) (2.1.0)\n",
      "Requirement already satisfied: certifi>=2017.4.17 in c:\\users\\fhsdn_6m\\appdata\\local\\packages\\pythonsoftwarefoundation.python.3.10_qbz5n2kfra8p0\\localcache\\local-packages\\python310\\site-packages (from requests<3.0,>=2.8.1->moviepy) (2023.11.17)\n",
      "Requirement already satisfied: colorama in c:\\users\\fhsdn_6m\\appdata\\local\\packages\\pythonsoftwarefoundation.python.3.10_qbz5n2kfra8p0\\localcache\\local-packages\\python310\\site-packages (from tqdm<5.0,>=4.11.2->moviepy) (0.4.6)\n",
      "Downloading imageio-2.34.0-py3-none-any.whl (313 kB)\n",
      "   ---------------------------------------- 0.0/313.4 kB ? eta -:--:--\n",
      "   ---------------------------------------- 313.4/313.4 kB 9.8 MB/s eta 0:00:00\n",
      "Downloading imageio_ffmpeg-0.4.9-py3-none-win_amd64.whl (22.6 MB)\n",
      "   ---------------------------------------- 0.0/22.6 MB ? eta -:--:--\n",
      "   - -------------------------------------- 0.7/22.6 MB 14.8 MB/s eta 0:00:02\n",
      "   -- ------------------------------------- 1.4/22.6 MB 15.1 MB/s eta 0:00:02\n",
      "   ---- ----------------------------------- 2.4/22.6 MB 16.6 MB/s eta 0:00:02\n",
      "   ----- ---------------------------------- 3.4/22.6 MB 17.8 MB/s eta 0:00:02\n",
      "   ------ --------------------------------- 3.7/22.6 MB 18.0 MB/s eta 0:00:02\n",
      "   ------ --------------------------------- 3.7/22.6 MB 18.0 MB/s eta 0:00:02\n",
      "   ------ --------------------------------- 3.7/22.6 MB 13.1 MB/s eta 0:00:02\n",
      "   ------- -------------------------------- 4.5/22.6 MB 13.0 MB/s eta 0:00:02\n",
      "   -------- ------------------------------- 4.9/22.6 MB 12.0 MB/s eta 0:00:02\n",
      "   -------- ------------------------------- 5.1/22.6 MB 11.6 MB/s eta 0:00:02\n",
      "   --------- ------------------------------ 5.3/22.6 MB 10.5 MB/s eta 0:00:02\n",
      "   ---------- ----------------------------- 5.8/22.6 MB 10.5 MB/s eta 0:00:02\n",
      "   ----------- ---------------------------- 6.4/22.6 MB 10.7 MB/s eta 0:00:02\n",
      "   ------------- -------------------------- 7.7/22.6 MB 12.0 MB/s eta 0:00:02\n",
      "   --------------- ------------------------ 8.9/22.6 MB 13.0 MB/s eta 0:00:02\n",
      "   ------------------ --------------------- 10.2/22.6 MB 13.9 MB/s eta 0:00:01\n",
      "   -------------------- ------------------- 11.5/22.6 MB 14.5 MB/s eta 0:00:01\n",
      "   ---------------------- ----------------- 12.8/22.6 MB 15.2 MB/s eta 0:00:01\n",
      "   ------------------------- -------------- 14.2/22.6 MB 19.3 MB/s eta 0:00:01\n",
      "   ------------------------- -------------- 14.7/22.6 MB 19.3 MB/s eta 0:00:01\n",
      "   ---------------------------- ----------- 15.9/22.6 MB 24.2 MB/s eta 0:00:01\n",
      "   ------------------------------ --------- 17.2/22.6 MB 27.3 MB/s eta 0:00:01\n",
      "   --------------------------------- ------ 19.0/22.6 MB 28.5 MB/s eta 0:00:01\n",
      "   ------------------------------------ --- 20.8/22.6 MB 29.7 MB/s eta 0:00:01\n",
      "   ---------------------------------------  22.5/22.6 MB 31.2 MB/s eta 0:00:01\n",
      "   ---------------------------------------  22.6/22.6 MB 31.2 MB/s eta 0:00:01\n",
      "   ---------------------------------------- 22.6/22.6 MB 26.2 MB/s eta 0:00:00\n",
      "Downloading proglog-0.1.10-py3-none-any.whl (6.1 kB)\n",
      "Building wheels for collected packages: moviepy\n",
      "  Building wheel for moviepy (pyproject.toml): started\n",
      "  Building wheel for moviepy (pyproject.toml): finished with status 'done'\n",
      "  Created wheel for moviepy: filename=moviepy-1.0.3-py3-none-any.whl size=110764 sha256=0428d00d215230003814a7d3276c623c8ba300789fafb68d125b83d59d2bd231\n",
      "  Stored in directory: c:\\users\\fhsdn_6m\\appdata\\local\\pip\\cache\\wheels\\96\\32\\2d\\e10123bd88fbfc02fed53cc18c80a171d3c87479ed845fa7c1\n",
      "Successfully built moviepy\n",
      "Installing collected packages: imageio-ffmpeg, imageio, decorator, proglog, moviepy\n",
      "  Attempting uninstall: decorator\n",
      "    Found existing installation: decorator 5.1.1\n",
      "    Uninstalling decorator-5.1.1:\n",
      "      Successfully uninstalled decorator-5.1.1\n",
      "Successfully installed decorator-4.4.2 imageio-2.34.0 imageio-ffmpeg-0.4.9 moviepy-1.0.3 proglog-0.1.10\n"
     ]
    },
    {
     "name": "stderr",
     "output_type": "stream",
     "text": [
      "\n",
      "[notice] A new release of pip is available: 23.3.2 -> 24.0\n",
      "[notice] To update, run: C:\\Users\\fhsdn_6m\\AppData\\Local\\Microsoft\\WindowsApps\\PythonSoftwareFoundation.Python.3.10_qbz5n2kfra8p0\\python.exe -m pip install --upgrade pip\n"
     ]
    }
   ],
   "source": [
    "!pip install moviepy"
   ]
  },
  {
   "cell_type": "code",
   "execution_count": 1,
   "metadata": {},
   "outputs": [],
   "source": [
    "import glob, cv2, random, tqdm, src, moviepy, os\n",
    "import numpy as np\n",
    "from moviepy.editor import AudioFileClip, concatenate_videoclips, ImageSequenceClip, concatenate_audioclips, CompositeAudioClip"
   ]
  },
  {
   "cell_type": "code",
   "execution_count": 2,
   "metadata": {},
   "outputs": [],
   "source": [
    "root_path = 'D:/SKT'"
   ]
  },
  {
   "cell_type": "code",
   "execution_count": 3,
   "metadata": {},
   "outputs": [],
   "source": [
    "subtitle = [['죽음의 순간, 하나의 삶이 끝나고', '또 다른 삶이 시작된다.'],\n",
    " ['억울한 죽음 뒤, 재벌가의 막내아들로', '다시 태어난 윤현우.'],\n",
    " ['가장 깊은 절망에서 빛나는 희망의 빛,', '진도준으로의 거듭남.'],\n",
    " ['한 아이의 대담한 목표,', '할아버지의 전폭적인 지지 아래 시작된다.'],\n",
    " ['분당 땅, 한번의 선택이 역사를 잇는', '부의 시작이 된다.'],\n",
    " ['목장에 심겨진 소년 진도준의 꿈꾸는 미래,', '경제적 기적의 서막.'],\n",
    " ['미래를 아는 소년,', '그의 선택이 역사를 바꾼다.'],\n",
    " ['구글과의 만남,', '진도준의 꿈을 현실로 만드는 결정적인 순간.'],\n",
    " ['조의 권력을 한 손에,', \"'미라클 인베스트먼트'의 창립.\"],\n",
    " ['순양그룹을 향한 그의 움직임,', '한 발 한 발 앞으로.'],\n",
    " ['숙적들을 무너뜨리기 위한 진도준의 냉철한', '계획.'],\n",
    " ['과거를 바로잡고 미래를 차지하려는', '끝없는 갈망.'],\n",
    " ['더 자세한 내용은',\"'재벌집 막내아들' 에서!\"]]\n",
    "\n",
    "effects = ['페이드 인',\n",
    " '눈 깜빡임 효과',\n",
    " '줌 아웃',\n",
    " '줌 인',\n",
    " '페이드 아웃',\n",
    " '눈 깜빡임 효과',\n",
    " '페이드 인',\n",
    " '줌 인',\n",
    " '배경 없이 나레이션만',\n",
    " '줌 아웃',\n",
    " '페이드 아웃',\n",
    " '줌 인']"
   ]
  },
  {
   "cell_type": "code",
   "execution_count": 4,
   "metadata": {},
   "outputs": [
    {
     "data": {
      "text/plain": [
       "(['D:/SKT/image/00-01.png',\n",
       "  'D:/SKT/image/01-00.png',\n",
       "  'D:/SKT/image/02-01.png',\n",
       "  'D:/SKT/image/03-00.png',\n",
       "  'D:/SKT/image/04-01.png',\n",
       "  'D:/SKT/image/05-00.png',\n",
       "  'D:/SKT/image/06-01.png',\n",
       "  'D:/SKT/image/07-00.png',\n",
       "  'D:/SKT/image/08-00.png',\n",
       "  'D:/SKT/image/09-01.png',\n",
       "  'D:/SKT/image/10-00.png',\n",
       "  'D:/SKT/image/11-01.png'],\n",
       " 12)"
      ]
     },
     "execution_count": 4,
     "metadata": {},
     "output_type": "execute_result"
    }
   ],
   "source": [
    "selected_image = [1,0,1,0,1,0,1,0,0,1,0,1]\n",
    "img_path = []\n",
    "for i,j in enumerate(selected_image):\n",
    "    filename= f\"{root_path}/image/{i:02d}-{j:02d}.png\"\n",
    "    assert os.path.exists(filename)\n",
    "    img_path.append(filename)\n",
    "img_path,len(img_path)"
   ]
  },
  {
   "cell_type": "code",
   "execution_count": 5,
   "metadata": {},
   "outputs": [
    {
     "data": {
      "text/plain": [
       "26"
      ]
     },
     "execution_count": 5,
     "metadata": {},
     "output_type": "execute_result"
    }
   ],
   "source": [
    "audio_path = sorted(glob.glob(f\"{root_path}/audio/*\"))\n",
    "len(audio_path)"
   ]
  },
  {
   "cell_type": "code",
   "execution_count": 6,
   "metadata": {},
   "outputs": [],
   "source": [
    "bgm = AudioFileClip(f\"{root_path}/BGM.wav\")"
   ]
  },
  {
   "cell_type": "code",
   "execution_count": 7,
   "metadata": {},
   "outputs": [
    {
     "name": "stdout",
     "output_type": "stream",
     "text": [
      "이미지 수 : 13 , 나레이션 수 : 13\n",
      "[226, 30, 229, 30, 241, 30, 263, 30, 217, 30, 259, 30, 175, 30, 232, 30, 208, 30, 189, 30, 201, 30, 204, 30, 162]\n"
     ]
    }
   ],
   "source": [
    "\n",
    "\n",
    "def floor(lst:list):\n",
    "    for i in range(len(lst)):\n",
    "        for j in range(len(lst[i])):\n",
    "            lst[i][j] = int(lst[i][j])\n",
    "    return lst\n",
    "\n",
    "\n",
    "fps = 60 # 영상 프레임\n",
    "\n",
    "imgs = [] # 이미지\n",
    "audios = [] # 오디오\n",
    "\n",
    "audio_frames = [] # 오디오별 길이\n",
    "\n",
    "for p in img_path:\n",
    "    imgs.append(cv2.cvtColor(cv2.imread(p),cv2.COLOR_BGR2RGB))\n",
    "imgs.append(np.zeros_like(imgs[-1],dtype=np.uint8))\n",
    "\n",
    "idx = 0 \n",
    "for i in range(len(subtitle)):\n",
    "    audios.append([])\n",
    "    audio_frames.append([])\n",
    "    for j in range(len(subtitle[i])):\n",
    "        audios[i].append(AudioFileClip(audio_path[idx]))\n",
    "        audio_frames[i].append(audios[i][j].duration*fps)\n",
    "        idx = idx + 1\n",
    "\n",
    "audio_frames = floor(audio_frames)\n",
    "\n",
    "print(\"이미지 수 :\",len(imgs),\", 나레이션 수 :\",len(audios))\n",
    "transition_frames = [30,30]\n",
    "transition_lst = [src.transition.Slide,src.transition.Blending]\n",
    "transition = []\n",
    "\n",
    "\n",
    "frames = [sum(audio_frames[0])] # \n",
    "for i in range(1,len(imgs)):\n",
    "    idx = random.randint(0,len(transition_lst)-1)\n",
    "    transition.append(transition_lst[idx](transition_frames[idx]))\n",
    "    frames.append(transition_frames[idx])\n",
    "    frames.append(sum(audio_frames[i]))\n",
    "print(frames)\n",
    "\n",
    "# 마지막 나레이션 장면 전환 효과 (더 자세한 내용은 '~~' 에서!)\n",
    "transition[-1] = transition_lst[1]"
   ]
  },
  {
   "cell_type": "code",
   "execution_count": 8,
   "metadata": {},
   "outputs": [
    {
     "data": {
      "text/plain": [
       "([1, 5, 4, 3, 2, 5, 1, 3, 6, 4, 2, 3, 6], 13)"
      ]
     },
     "execution_count": 8,
     "metadata": {},
     "output_type": "execute_result"
    }
   ],
   "source": [
    "vfx_lst = [\n",
    "    \"없음\",\n",
    "    \"페이드 인\",\n",
    "    \"페이드 아웃\",\n",
    "    \"줌 인\",\n",
    "    \"줌 아웃\",\n",
    "    \"눈 깜빡임 효과\",\n",
    "    \"배경 없이 나레이션만\"\n",
    "]\n",
    "\n",
    "\n",
    "def identity(video:src.Video):\n",
    "    return video\n",
    "\n",
    "vfx = [\n",
    "    identity,\n",
    "    src.effect.Fade_in(0,60),\n",
    "    src.effect.Fade_out(-60),\n",
    "    src.effect.Zoom_in(0),\n",
    "    src.effect.Zoom_out(0),\n",
    "    src.effect.Blink(0,60),\n",
    "    identity\n",
    "]\n",
    "vfx_idx = []\n",
    "for j,e in enumerate(effects):\n",
    "    for i in range(len(vfx_lst)):\n",
    "        if e.find(vfx_lst[i]) != -1:\n",
    "            vfx_idx.append(i)\n",
    "            break\n",
    "\n",
    "# 마지막 나레이션 영상 효과 (더 자세한 내용은 '~~' 에서!)\n",
    "vfx_idx.append(6)\n",
    "vfx_idx,len(vfx_idx)"
   ]
  },
  {
   "cell_type": "code",
   "execution_count": 9,
   "metadata": {},
   "outputs": [
    {
     "name": "stderr",
     "output_type": "stream",
     "text": [
      "100%|██████████| 12/12 [02:40<00:00, 13.38s/it]\n"
     ]
    }
   ],
   "source": [
    "def apply_subtitle(video:src.Video,idx:int):\n",
    "    start_frame = 0\n",
    "    ret = video\n",
    "    if vfx_idx[idx] == 6:\n",
    "        for i in range(len(subtitle[idx])):\n",
    "            ret = src.effect.Narration(subtitle[idx][i],start_frame=start_frame,end_frame=start_frame+audio_frames[idx][i])(ret)\n",
    "            start_frame = start_frame + audio_frames[idx][i]\n",
    "    else:\n",
    "        for i in range(len(subtitle[idx])):\n",
    "            ret = src.effect.Subtitle(subtitle[idx][i],start_frame=start_frame,end_frame=start_frame+audio_frames[idx][i],color=(255,255,255),bg_color=(0,0,0))(ret)\n",
    "            start_frame = start_frame + audio_frames[idx][i]\n",
    "    return ret\n",
    "\n",
    "videos = [apply_subtitle(vfx[vfx_idx[0]](src.im2vid(imgs[0],sum(audio_frames[0]))),0)]\n",
    "for i in tqdm.tqdm(range(1,len(imgs))):\n",
    "    x1 = videos[-1]\n",
    "    x2 = apply_subtitle(vfx[vfx_idx[i]](src.im2vid(imgs[i],sum(audio_frames[i]))),i)\n",
    "    videos.append(transition[i-1](x1,x2))\n",
    "    videos.append(x2)"
   ]
  },
  {
   "cell_type": "code",
   "execution_count": 10,
   "metadata": {},
   "outputs": [
    {
     "data": {
      "text/plain": [
       "[Frame shape(h,w):(1792, 1024), Num_frames:226, FPS:60, Duration:3.7666666666666666 Sec,\n",
       " Frame shape(h,w):(1792, 1024), Num_frames:30, FPS:60, Duration:0.5 Sec,\n",
       " Frame shape(h,w):(1792, 1024), Num_frames:229, FPS:60, Duration:3.816666666666667 Sec,\n",
       " Frame shape(h,w):(1792, 1024), Num_frames:30, FPS:60, Duration:0.5 Sec,\n",
       " Frame shape(h,w):(1792, 1024), Num_frames:241, FPS:60, Duration:4.016666666666667 Sec,\n",
       " Frame shape(h,w):(1792, 1024), Num_frames:30, FPS:60, Duration:0.5 Sec,\n",
       " Frame shape(h,w):(1792, 1024), Num_frames:263, FPS:60, Duration:4.383333333333334 Sec,\n",
       " Frame shape(h,w):(1792, 1024), Num_frames:30, FPS:60, Duration:0.5 Sec,\n",
       " Frame shape(h,w):(1792, 1024), Num_frames:217, FPS:60, Duration:3.6166666666666667 Sec,\n",
       " Frame shape(h,w):(1792, 1024), Num_frames:30, FPS:60, Duration:0.5 Sec,\n",
       " Frame shape(h,w):(1792, 1024), Num_frames:259, FPS:60, Duration:4.316666666666666 Sec,\n",
       " Frame shape(h,w):(1792, 1024), Num_frames:30, FPS:60, Duration:0.5 Sec,\n",
       " Frame shape(h,w):(1792, 1024), Num_frames:175, FPS:60, Duration:2.9166666666666665 Sec,\n",
       " Frame shape(h,w):(1792, 1024), Num_frames:30, FPS:60, Duration:0.5 Sec,\n",
       " Frame shape(h,w):(1792, 1024), Num_frames:232, FPS:60, Duration:3.8666666666666667 Sec,\n",
       " Frame shape(h,w):(1792, 1024), Num_frames:30, FPS:60, Duration:0.5 Sec,\n",
       " Frame shape(h,w):(1792, 1024), Num_frames:208, FPS:60, Duration:3.466666666666667 Sec,\n",
       " Frame shape(h,w):(1792, 1024), Num_frames:30, FPS:60, Duration:0.5 Sec,\n",
       " Frame shape(h,w):(1792, 1024), Num_frames:189, FPS:60, Duration:3.15 Sec,\n",
       " Frame shape(h,w):(1792, 1024), Num_frames:30, FPS:60, Duration:0.5 Sec,\n",
       " Frame shape(h,w):(1792, 1024), Num_frames:201, FPS:60, Duration:3.35 Sec,\n",
       " Frame shape(h,w):(1792, 1024), Num_frames:30, FPS:60, Duration:0.5 Sec,\n",
       " Frame shape(h,w):(1792, 1024), Num_frames:204, FPS:60, Duration:3.4 Sec,\n",
       " Frame shape(h,w):(1792, 1024), Num_frames:30, FPS:60, Duration:0.5 Sec,\n",
       " Frame shape(h,w):(1792, 1024), Num_frames:162, FPS:60, Duration:2.7 Sec]"
      ]
     },
     "execution_count": 10,
     "metadata": {},
     "output_type": "execute_result"
    }
   ],
   "source": [
    "videos"
   ]
  },
  {
   "cell_type": "code",
   "execution_count": 11,
   "metadata": {},
   "outputs": [
    {
     "name": "stderr",
     "output_type": "stream",
     "text": [
      "100%|██████████| 25/25 [00:00<00:00, 448.70it/s]"
     ]
    },
    {
     "name": "stderr",
     "output_type": "stream",
     "text": [
      "\n"
     ]
    },
    {
     "name": "stdout",
     "output_type": "stream",
     "text": [
      "Moviepy - Building video test.mp4.\n",
      "MoviePy - Writing audio in testTEMP_MPY_wvf_snd.mp3\n"
     ]
    },
    {
     "name": "stderr",
     "output_type": "stream",
     "text": [
      "                                                                     \r"
     ]
    },
    {
     "name": "stdout",
     "output_type": "stream",
     "text": [
      "MoviePy - Done.\n",
      "Moviepy - Writing video test.mp4\n",
      "\n"
     ]
    },
    {
     "name": "stderr",
     "output_type": "stream",
     "text": [
      "                                                                \r"
     ]
    },
    {
     "name": "stdout",
     "output_type": "stream",
     "text": [
      "Moviepy - Done !\n",
      "Moviepy - video ready test.mp4\n"
     ]
    }
   ],
   "source": [
    "video_lst = []\n",
    "\n",
    "\n",
    "for i in tqdm.tqdm(range(len(videos))):\n",
    "    vid = ImageSequenceClip(videos[i].video, fps=fps)\n",
    "    if i != len(videos):\n",
    "        if i%2 == 0:\n",
    "            video_lst.append(vid.set_audio(concatenate_audioclips(audios[i//2])))\n",
    "        else :\n",
    "            video_lst.append(vid)\n",
    "    \n",
    "video_clip = concatenate_videoclips(video_lst)\n",
    "new_audio = CompositeAudioClip([video_clip.audio,bgm.audio_loop(duration=video_clip.duration).volumex(1.5)])\n",
    "video_clip.audio = new_audio\n",
    "\n",
    "\n",
    "# 비디오를 저장합니다.\n",
    "video_clip.write_videofile(\"test.mp4\")"
   ]
  }
 ],
 "metadata": {
  "kernelspec": {
   "display_name": "Python 3",
   "language": "python",
   "name": "python3"
  },
  "language_info": {
   "codemirror_mode": {
    "name": "ipython",
    "version": 3
   },
   "file_extension": ".py",
   "mimetype": "text/x-python",
   "name": "python",
   "nbconvert_exporter": "python",
   "pygments_lexer": "ipython3",
   "version": "3.10.11"
  }
 },
 "nbformat": 4,
 "nbformat_minor": 2
}
