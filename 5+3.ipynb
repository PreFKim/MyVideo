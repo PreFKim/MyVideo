{
 "cells": [
  {
   "cell_type": "markdown",
   "metadata": {},
   "source": [
    "남은 거\n",
    "\n",
    "TTS API\n",
    "\n",
    "영상 + 오디오\n",
    "\n"
   ]
  },
  {
   "cell_type": "markdown",
   "metadata": {},
   "source": [
    "# 순서도\n",
    "\n",
    "1. 이미지 경로 설정\n",
    "\n",
    "2. 오디오 길이 측정\n",
    "\n",
    "3. vfx 설정(각 함수에 맞게 오디오 설정)\n",
    "\n",
    "4. 전환 효과 설정\n",
    "\n",
    "\n",
    "결과물 shape\n",
    "\n",
    "자막 : 30\n",
    "\n",
    "장면 프롬프트 : 30\n"
   ]
  },
  {
   "cell_type": "code",
   "execution_count": 18,
   "metadata": {},
   "outputs": [],
   "source": [
    "import glob, cv2, random, tqdm, src, moviepy\n",
    "import numpy as np\n",
    "from moviepy.editor import AudioFileClip, concatenate_videoclips, ImageSequenceClip, concatenate_audioclips, CompositeAudioClip"
   ]
  },
  {
   "cell_type": "code",
   "execution_count": 19,
   "metadata": {},
   "outputs": [],
   "source": [
    "subtitle = [['흙수저 출신 윤현우,', '대기업 순양그룹의 재벌 3세들 뒤치다꺼리를 시작하다.'],\n",
    " ['하루하루 머슴처럼 일하며', '차츰 그의 입지는 커지고 신뢰를 얻어가다.'],\n",
    " ['하지만 눈부신 성과 뒤에,', '억울한 비자금 조성 죄를 뒤집어쓴 윤현우.'],\n",
    " ['죽음의 순간, 윤현우는', '순양그룹 회장의 막내 손자 진도준으로 회귀한다.'],\n",
    " ['재벌가의 막내아들,', '진도준으로서의 새로운 인생이 시작된다.'],\n",
    " ['진도준은 성장하며 할아버지 진양철에게', '자신의 야망를 차근차근 보여주기 시작한다.'],\n",
    " ['1년간의 우수한 학업 성취,', '진도준은 분당 목장으로 그의 야망을 키운다.'],\n",
    " ['목장이 개발되어 엄청난 이익을 올린 진도준,', '이제 구글에 눈을 돌린다.'],\n",
    " ['젊은 나이에 거액을 투자해', '보이지 않는 거대한 부를 축적한다.'],\n",
    " ['성인이 되어, 진도준은', \"'미라클 인베스트먼트'를 설립한다.\"],\n",
    " ['정체를 숨긴 채 회사를 운영,', '부실기업으로 만들어 인수하는 덫을 놓는다.'],\n",
    " ['이 모든 것은 다가오는 순양그룹의 몰락을 위한', '준비 과정이었다.'],\n",
    " ['진도준, 과거의 원수를 찾아내고', '진정한 힘의 입증을 준비한다.'],\n",
    " ['한 걸음 한 걸음, 바둑판 위의 기사처럼', '순양그룹을 향해 나아간다.'],\n",
    " ['과연 진도준은 순양그룹을 되찾고', '진정한 자유와 복수를 이룰 수 있을까?']]"
   ]
  },
  {
   "cell_type": "code",
   "execution_count": 20,
   "metadata": {},
   "outputs": [
    {
     "data": {
      "text/plain": [
       "['C:/Users/2023-PC(T)-3/Desktop/MyVideo/test/00-00.png',\n",
       " 'C:/Users/2023-PC(T)-3/Desktop/MyVideo/test/01-01.png',\n",
       " 'C:/Users/2023-PC(T)-3/Desktop/MyVideo/test/02-01.png',\n",
       " 'C:/Users/2023-PC(T)-3/Desktop/MyVideo/test/03-00.png',\n",
       " 'C:/Users/2023-PC(T)-3/Desktop/MyVideo/test/04-01.png',\n",
       " 'C:/Users/2023-PC(T)-3/Desktop/MyVideo/test/05-01.png',\n",
       " 'C:/Users/2023-PC(T)-3/Desktop/MyVideo/test/06-00.png',\n",
       " 'C:/Users/2023-PC(T)-3/Desktop/MyVideo/test/07-00.png',\n",
       " 'C:/Users/2023-PC(T)-3/Desktop/MyVideo/test/08-00.png',\n",
       " 'C:/Users/2023-PC(T)-3/Desktop/MyVideo/test/09-01.png',\n",
       " 'C:/Users/2023-PC(T)-3/Desktop/MyVideo/test/10-00.png',\n",
       " 'C:/Users/2023-PC(T)-3/Desktop/MyVideo/test/11-01.png',\n",
       " 'C:/Users/2023-PC(T)-3/Desktop/MyVideo/test/12-01.png',\n",
       " 'C:/Users/2023-PC(T)-3/Desktop/MyVideo/test/13-01.png',\n",
       " 'C:/Users/2023-PC(T)-3/Desktop/MyVideo/test/14-00.png']"
      ]
     },
     "execution_count": 20,
     "metadata": {},
     "output_type": "execute_result"
    }
   ],
   "source": [
    "selected_image = [0,1,1,0,1,1,0,0,0,1,0,1,1,1,0]\n",
    "img_path = []\n",
    "for i,j in enumerate(selected_image):\n",
    "    img_path.append(f\"C:/Users/2023-PC(T)-3/Desktop/MyVideo/test/{i:02d}-{j:02d}.png\")\n",
    "img_path"
   ]
  },
  {
   "cell_type": "code",
   "execution_count": 4,
   "metadata": {},
   "outputs": [
    {
     "data": {
      "text/plain": [
       "['C:/Users/2023-PC(T)-3/Desktop/th/th/image\\\\01.PNG',\n",
       " 'C:/Users/2023-PC(T)-3/Desktop/th/th/image\\\\02.PNG',\n",
       " 'C:/Users/2023-PC(T)-3/Desktop/th/th/image\\\\03.PNG',\n",
       " 'C:/Users/2023-PC(T)-3/Desktop/th/th/image\\\\04.PNG',\n",
       " 'C:/Users/2023-PC(T)-3/Desktop/th/th/image\\\\05.PNG',\n",
       " 'C:/Users/2023-PC(T)-3/Desktop/th/th/image\\\\06.PNG',\n",
       " 'C:/Users/2023-PC(T)-3/Desktop/th/th/image\\\\07.PNG',\n",
       " 'C:/Users/2023-PC(T)-3/Desktop/th/th/image\\\\08.PNG',\n",
       " 'C:/Users/2023-PC(T)-3/Desktop/th/th/image\\\\09.PNG',\n",
       " 'C:/Users/2023-PC(T)-3/Desktop/th/th/image\\\\10.PNG',\n",
       " 'C:/Users/2023-PC(T)-3/Desktop/th/th/image\\\\11.PNG',\n",
       " 'C:/Users/2023-PC(T)-3/Desktop/th/th/image\\\\12.PNG',\n",
       " 'C:/Users/2023-PC(T)-3/Desktop/th/th/image\\\\13.PNG',\n",
       " 'C:/Users/2023-PC(T)-3/Desktop/th/th/image\\\\14.PNG',\n",
       " 'C:/Users/2023-PC(T)-3/Desktop/th/th/image\\\\15.PNG']"
      ]
     },
     "execution_count": 4,
     "metadata": {},
     "output_type": "execute_result"
    }
   ],
   "source": [
    "img_path = glob.glob(\"C:/Users/2023-PC(T)-3/Desktop/th/th/image/*\")\n",
    "img_path"
   ]
  },
  {
   "cell_type": "code",
   "execution_count": 21,
   "metadata": {},
   "outputs": [
    {
     "name": "stdout",
     "output_type": "stream",
     "text": [
      "15 15\n"
     ]
    },
    {
     "data": {
      "text/plain": [
       "[282,\n",
       " 30,\n",
       " 240,\n",
       " 30,\n",
       " 246,\n",
       " 30,\n",
       " 275,\n",
       " 30,\n",
       " 235,\n",
       " 10,\n",
       " 292,\n",
       " 10,\n",
       " 268,\n",
       " 30,\n",
       " 258,\n",
       " 30,\n",
       " 232,\n",
       " 30,\n",
       " 222,\n",
       " 30,\n",
       " 258,\n",
       " 10,\n",
       " 245,\n",
       " 10,\n",
       " 253,\n",
       " 10,\n",
       " 249,\n",
       " 30,\n",
       " 259]"
      ]
     },
     "execution_count": 21,
     "metadata": {},
     "output_type": "execute_result"
    }
   ],
   "source": [
    "\n",
    "\n",
    "def floor(lst:list):\n",
    "    for i in range(len(lst)):\n",
    "        for j in range(len(lst[i])):\n",
    "            lst[i][j] = int(lst[i][j])\n",
    "    return lst\n",
    "\n",
    "audio_path = sorted(glob.glob(\"C:/Users/2023-PC(T)-3/Downloads/재벌집2/*\"))\n",
    "#audio_path = sorted(glob.glob(\"C:/Users/2023-PC(T)-3/Desktop/th/th/audio/*\"))\n",
    "\n",
    "fps = 60 # 영상 프레임\n",
    "\n",
    "bgm = AudioFileClip(\"C:/Users/2023-PC(T)-3/Desktop/th/th/BGM.wav\")\n",
    "\n",
    "imgs = [] #이미지\n",
    "audios = [] # 오디오\n",
    "audio_frames = [] # 오디오별 길이\n",
    "\n",
    "for p in img_path:\n",
    "    imgs.append(cv2.cvtColor(cv2.imread(p),cv2.COLOR_BGR2RGB))\n",
    "\n",
    "idx = 0 \n",
    "for i in range(len(subtitle)):\n",
    "    audios.append([])\n",
    "    audio_frames.append([])\n",
    "    for j in range(len(subtitle[i])):\n",
    "        audios[i].append(AudioFileClip(audio_path[idx]))\n",
    "        audio_frames[i].append(audios[i][j].duration*fps)\n",
    "        idx = idx + 1\n",
    "\n",
    "audio_frames = floor(audio_frames)\n",
    "\n",
    "print(len(imgs),len(audios))\n",
    "transition_frames = [10,30]\n",
    "transition_lst = [src.transition.Slide,src.transition.Blending]\n",
    "transition = []\n",
    "\n",
    "frames = [sum(audio_frames[0])] # \n",
    "for i in range(1,len(imgs)):\n",
    "    idx = random.randint(0,len(transition_lst)-1)\n",
    "    transition.append(transition_lst[idx](transition_frames[idx]))\n",
    "    frames.append(transition_frames[idx])\n",
    "    frames.append(sum(audio_frames[i]))\n",
    "frames"
   ]
  },
  {
   "cell_type": "code",
   "execution_count": 22,
   "metadata": {},
   "outputs": [
    {
     "name": "stderr",
     "output_type": "stream",
     "text": [
      "100%|██████████| 14/14 [01:10<00:00,  5.02s/it]\n"
     ]
    }
   ],
   "source": [
    "vfx = [src.effect.Zoom_in(0),\n",
    "    src.effect.Zoom_out(0),\n",
    "    src.effect.Fade_in(0,60),\n",
    "    src.effect.Fade_out(-60),\n",
    "    src.effect.Blink(0,60)]\n",
    "\n",
    "def apply_subtitle(video:src.Video,idx:int):\n",
    "    start_frame = 0\n",
    "    ret = video\n",
    "    for i in range(len(subtitle[idx])):\n",
    "        ret = src.effect.Subtitle(subtitle[idx][i],start_frame=start_frame,end_frame=start_frame+audio_frames[idx][i],color=(255,255,255),bg_color=(0,0,0))(ret)\n",
    "        start_frame = start_frame + audio_frames[idx][i]\n",
    "    return ret\n",
    "\n",
    "videos = [apply_subtitle(src.im2vid(imgs[0],sum(audio_frames[0])),0)]\n",
    "for i in tqdm.tqdm(range(1,len(imgs))):\n",
    "    x1 = videos[-1]\n",
    "    x2 = apply_subtitle(src.im2vid(imgs[i],sum(audio_frames[i])),i)\n",
    "    videos.append(transition[i-1](x1,x2))\n",
    "    videos.append(x2)"
   ]
  },
  {
   "cell_type": "code",
   "execution_count": 23,
   "metadata": {},
   "outputs": [
    {
     "data": {
      "text/plain": [
       "[Frame shape(h,w):(1792, 1024), Num_frames:282, FPS:60, Duration:4.7 Sec,\n",
       " Frame shape(h,w):(1792, 1024), Num_frames:30, FPS:60, Duration:0.5 Sec,\n",
       " Frame shape(h,w):(1792, 1024), Num_frames:240, FPS:60, Duration:4.0 Sec,\n",
       " Frame shape(h,w):(1792, 1024), Num_frames:30, FPS:60, Duration:0.5 Sec,\n",
       " Frame shape(h,w):(1792, 1024), Num_frames:246, FPS:60, Duration:4.1 Sec,\n",
       " Frame shape(h,w):(1792, 1024), Num_frames:30, FPS:60, Duration:0.5 Sec,\n",
       " Frame shape(h,w):(1792, 1024), Num_frames:275, FPS:60, Duration:4.583333333333333 Sec,\n",
       " Frame shape(h,w):(1792, 1024), Num_frames:30, FPS:60, Duration:0.5 Sec,\n",
       " Frame shape(h,w):(1792, 1024), Num_frames:235, FPS:60, Duration:3.9166666666666665 Sec,\n",
       " Frame shape(h,w):(1792, 1024), Num_frames:10, FPS:60, Duration:0.16666666666666666 Sec,\n",
       " Frame shape(h,w):(1792, 1024), Num_frames:292, FPS:60, Duration:4.866666666666666 Sec,\n",
       " Frame shape(h,w):(1792, 1024), Num_frames:10, FPS:60, Duration:0.16666666666666666 Sec,\n",
       " Frame shape(h,w):(1792, 1024), Num_frames:268, FPS:60, Duration:4.466666666666667 Sec,\n",
       " Frame shape(h,w):(1792, 1024), Num_frames:30, FPS:60, Duration:0.5 Sec,\n",
       " Frame shape(h,w):(1792, 1024), Num_frames:258, FPS:60, Duration:4.3 Sec,\n",
       " Frame shape(h,w):(1792, 1024), Num_frames:30, FPS:60, Duration:0.5 Sec,\n",
       " Frame shape(h,w):(1792, 1024), Num_frames:232, FPS:60, Duration:3.8666666666666667 Sec,\n",
       " Frame shape(h,w):(1792, 1024), Num_frames:30, FPS:60, Duration:0.5 Sec,\n",
       " Frame shape(h,w):(1792, 1024), Num_frames:222, FPS:60, Duration:3.7 Sec,\n",
       " Frame shape(h,w):(1792, 1024), Num_frames:30, FPS:60, Duration:0.5 Sec,\n",
       " Frame shape(h,w):(1792, 1024), Num_frames:258, FPS:60, Duration:4.3 Sec,\n",
       " Frame shape(h,w):(1792, 1024), Num_frames:10, FPS:60, Duration:0.16666666666666666 Sec,\n",
       " Frame shape(h,w):(1792, 1024), Num_frames:245, FPS:60, Duration:4.083333333333333 Sec,\n",
       " Frame shape(h,w):(1792, 1024), Num_frames:10, FPS:60, Duration:0.16666666666666666 Sec,\n",
       " Frame shape(h,w):(1792, 1024), Num_frames:253, FPS:60, Duration:4.216666666666667 Sec,\n",
       " Frame shape(h,w):(1792, 1024), Num_frames:10, FPS:60, Duration:0.16666666666666666 Sec,\n",
       " Frame shape(h,w):(1792, 1024), Num_frames:249, FPS:60, Duration:4.15 Sec,\n",
       " Frame shape(h,w):(1792, 1024), Num_frames:30, FPS:60, Duration:0.5 Sec,\n",
       " Frame shape(h,w):(1792, 1024), Num_frames:259, FPS:60, Duration:4.316666666666666 Sec]"
      ]
     },
     "execution_count": 23,
     "metadata": {},
     "output_type": "execute_result"
    }
   ],
   "source": [
    "videos"
   ]
  },
  {
   "cell_type": "code",
   "execution_count": 24,
   "metadata": {},
   "outputs": [
    {
     "name": "stderr",
     "output_type": "stream",
     "text": [
      "  0%|          | 0/29 [00:00<?, ?it/s]"
     ]
    },
    {
     "name": "stderr",
     "output_type": "stream",
     "text": [
      "100%|██████████| 29/29 [00:00<00:00, 509.80it/s]\n"
     ]
    },
    {
     "name": "stdout",
     "output_type": "stream",
     "text": [
      "Moviepy - Building video test.mp4.\n",
      "MoviePy - Writing audio in testTEMP_MPY_wvf_snd.mp3\n"
     ]
    },
    {
     "name": "stderr",
     "output_type": "stream",
     "text": [
      "                                                                     \r"
     ]
    },
    {
     "name": "stdout",
     "output_type": "stream",
     "text": [
      "MoviePy - Done.\n",
      "Moviepy - Writing video test.mp4\n",
      "\n"
     ]
    },
    {
     "name": "stderr",
     "output_type": "stream",
     "text": [
      "                                                                \r"
     ]
    },
    {
     "name": "stdout",
     "output_type": "stream",
     "text": [
      "Moviepy - Done !\n",
      "Moviepy - video ready test.mp4\n"
     ]
    }
   ],
   "source": [
    "video_lst = []\n",
    "\n",
    "\n",
    "for i in tqdm.tqdm(range(len(videos))):\n",
    "    vid = ImageSequenceClip(videos[i].video, fps=fps)\n",
    "    if i != len(videos):\n",
    "        if i%2 == 0:\n",
    "            video_lst.append(vid.set_audio(concatenate_audioclips(audios[i//2])))\n",
    "        else :\n",
    "            video_lst.append(vid)\n",
    "    \n",
    "video_clip = concatenate_videoclips(video_lst)\n",
    "new_audio = CompositeAudioClip([video_clip.audio,bgm.audio_loop(duration=video_clip.duration).volumex(1)])\n",
    "video_clip.audio = new_audio\n",
    "\n",
    "\n",
    "# 비디오를 저장합니다.\n",
    "video_clip.write_videofile(\"test.mp4\")"
   ]
  }
 ],
 "metadata": {
  "kernelspec": {
   "display_name": "Python 3",
   "language": "python",
   "name": "python3"
  },
  "language_info": {
   "codemirror_mode": {
    "name": "ipython",
    "version": 3
   },
   "file_extension": ".py",
   "mimetype": "text/x-python",
   "name": "python",
   "nbconvert_exporter": "python",
   "pygments_lexer": "ipython3",
   "version": "3.7.9"
  }
 },
 "nbformat": 4,
 "nbformat_minor": 2
}
