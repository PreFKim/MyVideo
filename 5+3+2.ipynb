{
 "cells": [
  {
   "cell_type": "code",
   "execution_count": 1,
   "metadata": {},
   "outputs": [],
   "source": [
    "narration = [['흙수저 출신 윤현우, 대기업 입사의 꿈 이루다.',\n",
    "  '죽음의 순간, 윤현우는 재벌집 막내아들 진도준으로 회귀한다.',\n",
    "  '버림받은 진윤기 가족, 막내아들의 무게를 진도준은 어깨에 진다.'],\n",
    " ['할아버지 진양철의 시험, 말 한 마리의 약속.',\n",
    "  '진도준의 선택은 분당, 알고 있는 미래로의 첫걸음.',\n",
    "  '8만평 분당 땅의 개발, 진도준의 첫 번째 승리.'],\n",
    " ['10살 진도준, 140억의 시작.',\n",
    "  '구글 등의 투자로 몇 조의 자산가 된 진도준.',\n",
    "  \"'미라클 인베스트먼트', 숨겨진 정체의 투자회사 탄생.\"],\n",
    " ['진도준의 전략, 부실기업을 만든 후 인수.',\n",
    "  '순양그룹을 먹어버리기 위한 복수극의 준비.',\n",
    "  '비밀을 간직한 채, 순양그룹을 향한 진도준의 걸음은 멈추지 않는다.'],\n",
    " ['진도준, 자신을 죽인 범인을 찾아내고 복수를 계획한다.',\n",
    "  '순양그룹을 손에 넣을 수 있을까?',\n",
    "  '재벌집 막내아들의 복수와 성공, 그리고 새로운 시작.']]"
   ]
  },
  {
   "cell_type": "code",
   "execution_count": null,
   "metadata": {},
   "outputs": [],
   "source": [
    "import src\n",
    "src.effect.Narration(\"정체를 숨기고, 갖고 싶은\")(src.full((1792,1024),30*3,color=(255,255,255))).show()"
   ]
  },
  {
   "cell_type": "code",
   "execution_count": 26,
   "metadata": {},
   "outputs": [],
   "source": [
    "import src\n",
    "vid2 = src.effect.Subtitle(\"흙수저 출신 윤현우가 운 좋게.\")(src.full((1792,1024),60*3,color=(255,255,255)))"
   ]
  },
  {
   "cell_type": "code",
   "execution_count": 7,
   "metadata": {},
   "outputs": [
    {
     "data": {
      "text/plain": [
       "[['흙수저 출신 윤현우,', '대기업 입사의 꿈 이루다.'],\n",
       " ['죽음의 순간, 윤현우는 재벌집', '막내아들 진도준으로 회귀한다.'],\n",
       " ['버림받은 진윤기 가족, 막내아들의', '무게를 진도준은 어깨에 진다.'],\n",
       " ['할아버지 진양철의 시험,', '말 한 마리의 약속.'],\n",
       " ['진도준의 선택은 분당, 알고', '있는 미래로의 첫걸음.'],\n",
       " ['8만평 분당 땅의 개발,', '진도준의 첫 번째 승리.'],\n",
       " ['10살 진도준,', '140억의 시작.'],\n",
       " ['구글 등의 투자로 몇', '조의 자산가 된 진도준.'],\n",
       " [\"'미라클 인베스트먼트',\", '숨겨진 정체의 투자회사 탄생.'],\n",
       " ['진도준의 전략,', '부실기업을 만든 후', '인수.'],\n",
       " ['순양그룹을 먹어버리기', '위한 복수극의 준비.'],\n",
       " ['비밀을 간직한 채, 순양그룹을 향한', '진도준의 걸음은 멈추지 않는다.'],\n",
       " ['진도준, 자신을 죽인 범인을', '찾아내고 복수를 계획한다.'],\n",
       " ['순양그룹을 손에', '넣을 수 있을까?'],\n",
       " ['재벌집 막내아들의 복수와', '성공, 그리고 새로운 시작.']]"
      ]
     },
     "execution_count": 7,
     "metadata": {},
     "output_type": "execute_result"
    }
   ],
   "source": [
    "import re\n",
    "\n",
    "def divide_sentences_by_length(text, max_length):\n",
    "    sentences = re.findall(r'\\S.{0,%d}\\S(?=\\s|$)' % (max_length - 1), text)\n",
    "    return sentences\n",
    "subtitle = []\n",
    "for i in range(len(narration)):\n",
    "    for j in range(len(narration[i])):\n",
    "        text = narration[i][j]\n",
    "        max_length = len(text)//2\n",
    "        sentences = divide_sentences_by_length(text, max_length)\n",
    "        subtitle.append(sentences)\n",
    "subtitle"
   ]
  },
  {
   "cell_type": "code",
   "execution_count": null,
   "metadata": {},
   "outputs": [],
   "source": [
    "vfx_name = [\"줌 인\",\"줌 아웃\",\"페이드 인\", \"페이드 아웃\",\"눈 깜빡임\",\"배경없이 나레이션만\"]\n",
    "\n",
    "def get_fx(content:str, sep=\"---\"):\n",
    "    ret = []\n",
    "    if (content.find(sep)== -1 ):\n",
    "        sep = \"\\n\\n\"\n",
    "    for i,scene in enumerate(content.split(sep)):\n",
    "        for line in scene.split('\\n'):\n",
    "            if len(line) > 0 and line[0] == '-':\n",
    "                line = line.split(':')[-1]\n",
    "                if line[0] == ' ':\n",
    "                    line = line[1:]\n",
    "                line = line.replace(\"\\\"\",\"\")\n",
    "                ret.append(vfx_name.index(line))\n",
    "    return ret"
   ]
  },
  {
   "cell_type": "markdown",
   "metadata": {},
   "source": [
    "남은 거\n",
    "\n",
    "TTS API\n",
    "\n",
    "영상 + 오디오\n",
    "\n"
   ]
  },
  {
   "cell_type": "markdown",
   "metadata": {},
   "source": [
    "# 순서도\n",
    "\n",
    "1. 이미지 경로 설정\n",
    "\n",
    "2. 오디오 길이 측정\n",
    "\n",
    "3. vfx 설정(각 함수에 맞게 오디오 설정)\n",
    "\n",
    "4. 전환 효과 설정\n",
    "\n",
    "\n",
    "결과물 shape\n",
    "\n",
    "자막 : 30\n",
    "\n",
    "장면 프롬프트 : 30\n"
   ]
  },
  {
   "cell_type": "code",
   "execution_count": 1,
   "metadata": {},
   "outputs": [],
   "source": [
    "subtitle = ['흙수저 출신,',\n",
    " '순양그룹의 신뢰를 얻은 윤현우.',\n",
    " '하루아침에 모든 것을 잃고',\n",
    " '총에 맞아 죽음을 맞이하다.',\n",
    " '죽은 줄 알았던 그 순간,',\n",
    " '모든 것이 바뀌기 시작했다.',\n",
    " '순양그룹의 막내 손자,',\n",
    " '진도준으로의 회귀.',\n",
    " '상속과는 거리가 먼 재벌집 막내아들의',\n",
    " '새로운 삶.',\n",
    " '복수를 위한 준비,',\n",
    " '순양그룹을 통째로 삼킬 계획의 시작.',\n",
    " '진도준, 진양철 회장에게',\n",
    " '자신의 야망을 드러내다.',\n",
    " '\"모든 것을 갖고 싶다\",',\n",
    " '할아버지와의 약속.',\n",
    " '전과목 우수,',\n",
    " '진도준의 야심 찬 목표의 첫발.',\n",
    " '분당 땅 8만평,',\n",
    " '진도준의 미래를 아는 선택.',\n",
    " '개발되어 140억의 대박,',\n",
    " '미래를 내다본 탁월한 투자.',\n",
    " '10살의 소년이 구글에 투자해',\n",
    " '몇 조가 되는 돈을 벌다.',\n",
    " '성인이 된 진도준,',\n",
    " \"'미라클 인베스트먼트'의 창립.\",\n",
    " '정체를 숨긴 채,',\n",
    " '순양그룹을 넘보는 힘을 키우다.',\n",
    " '과연 진도준은 범인을 찾아',\n",
    " '복수를 완성할 수 있을까?']"
   ]
  },
  {
   "cell_type": "code",
   "execution_count": 2,
   "metadata": {},
   "outputs": [
    {
     "data": {
      "text/plain": [
       "['C:/Users/2023-PC(T)-3/Desktop/MyVideo/test/00-01.png',\n",
       " 'C:/Users/2023-PC(T)-3/Desktop/MyVideo/test/01-00.png',\n",
       " 'C:/Users/2023-PC(T)-3/Desktop/MyVideo/test/02-00.png',\n",
       " 'C:/Users/2023-PC(T)-3/Desktop/MyVideo/test/03-00.png',\n",
       " 'C:/Users/2023-PC(T)-3/Desktop/MyVideo/test/04-01.png',\n",
       " 'C:/Users/2023-PC(T)-3/Desktop/MyVideo/test/05-00.png',\n",
       " 'C:/Users/2023-PC(T)-3/Desktop/MyVideo/test/06-01.png',\n",
       " 'C:/Users/2023-PC(T)-3/Desktop/MyVideo/test/07-00.png',\n",
       " 'C:/Users/2023-PC(T)-3/Desktop/MyVideo/test/08-01.png',\n",
       " 'C:/Users/2023-PC(T)-3/Desktop/MyVideo/test/09-01.png',\n",
       " 'C:/Users/2023-PC(T)-3/Desktop/MyVideo/test/10-00.png',\n",
       " 'C:/Users/2023-PC(T)-3/Desktop/MyVideo/test/11-01.png',\n",
       " 'C:/Users/2023-PC(T)-3/Desktop/MyVideo/test/12-01.png',\n",
       " 'C:/Users/2023-PC(T)-3/Desktop/MyVideo/test/13-01.png',\n",
       " 'C:/Users/2023-PC(T)-3/Desktop/MyVideo/test/14-00.png',\n",
       " 'C:/Users/2023-PC(T)-3/Desktop/MyVideo/test/15-01.png',\n",
       " 'C:/Users/2023-PC(T)-3/Desktop/MyVideo/test/16-01.png',\n",
       " 'C:/Users/2023-PC(T)-3/Desktop/MyVideo/test/17-00.png',\n",
       " 'C:/Users/2023-PC(T)-3/Desktop/MyVideo/test/18-00.png',\n",
       " 'C:/Users/2023-PC(T)-3/Desktop/MyVideo/test/19-01.png',\n",
       " 'C:/Users/2023-PC(T)-3/Desktop/MyVideo/test/20-01.png',\n",
       " 'C:/Users/2023-PC(T)-3/Desktop/MyVideo/test/21-00.png',\n",
       " 'C:/Users/2023-PC(T)-3/Desktop/MyVideo/test/22-00.png',\n",
       " 'C:/Users/2023-PC(T)-3/Desktop/MyVideo/test/23-00.png',\n",
       " 'C:/Users/2023-PC(T)-3/Desktop/MyVideo/test/24-00.png',\n",
       " 'C:/Users/2023-PC(T)-3/Desktop/MyVideo/test/25-01.png',\n",
       " 'C:/Users/2023-PC(T)-3/Desktop/MyVideo/test/26-01.png',\n",
       " 'C:/Users/2023-PC(T)-3/Desktop/MyVideo/test/27-01.png',\n",
       " 'C:/Users/2023-PC(T)-3/Desktop/MyVideo/test/28-00.png',\n",
       " 'C:/Users/2023-PC(T)-3/Desktop/MyVideo/test/29-01.png']"
      ]
     },
     "execution_count": 2,
     "metadata": {},
     "output_type": "execute_result"
    }
   ],
   "source": [
    "selected_image = [1,0,0,0,1,0,1,0,1,1,0,1,1,1,0,1,1,0,0,1,1,0,0,0,0,1,1,1,0,1]\n",
    "img_path = []\n",
    "for i,j in enumerate(selected_image):\n",
    "    img_path.append(f\"C:/Users/2023-PC(T)-3/Desktop/MyVideo/test/{i:02d}-{j:02d}.png\")\n",
    "img_path"
   ]
  },
  {
   "cell_type": "code",
   "execution_count": 3,
   "metadata": {},
   "outputs": [
    {
     "name": "stdout",
     "output_type": "stream",
     "text": [
      "30 30\n"
     ]
    },
    {
     "data": {
      "text/plain": [
       "[80,\n",
       " 10,\n",
       " 132,\n",
       " 30,\n",
       " 119,\n",
       " 30,\n",
       " 115,\n",
       " 30,\n",
       " 111,\n",
       " 30,\n",
       " 118,\n",
       " 10,\n",
       " 111,\n",
       " 10,\n",
       " 92,\n",
       " 10,\n",
       " 168,\n",
       " 30,\n",
       " 67,\n",
       " 30,\n",
       " 94,\n",
       " 30,\n",
       " 151,\n",
       " 30,\n",
       " 132,\n",
       " 10,\n",
       " 105,\n",
       " 30,\n",
       " 96,\n",
       " 30,\n",
       " 96,\n",
       " 30,\n",
       " 79,\n",
       " 30,\n",
       " 136,\n",
       " 10,\n",
       " 102,\n",
       " 30,\n",
       " 119,\n",
       " 10,\n",
       " 123,\n",
       " 30,\n",
       " 115,\n",
       " 30,\n",
       " 122,\n",
       " 10,\n",
       " 103,\n",
       " 30,\n",
       " 93,\n",
       " 30,\n",
       " 139,\n",
       " 30,\n",
       " 85,\n",
       " 10,\n",
       " 130,\n",
       " 10,\n",
       " 115,\n",
       " 10,\n",
       " 109]"
      ]
     },
     "execution_count": 3,
     "metadata": {},
     "output_type": "execute_result"
    }
   ],
   "source": [
    "import glob, cv2, random, tqdm, src\n",
    "import numpy as np\n",
    "from moviepy.editor import AudioFileClip, AudioClip, concatenate_videoclips, ImageSequenceClip\n",
    "\n",
    "def floor(lst:list):\n",
    "    for i in range(len(lst)):\n",
    "        lst[i] = int(lst[i])#+int(lst[i] % 1 > 0)\n",
    "    return lst\n",
    "\n",
    "audio_path = glob.glob(\"C:/Users/2023-PC(T)-3/Downloads/새+프로젝트 (4)/*.mp3\")\n",
    "\n",
    "fps = 60 # 영상 프레임\n",
    "\n",
    "imgs = [] #이미지\n",
    "audios = [] # 오디오\n",
    "audio_frames = [] # 오디오별 길이\n",
    "\n",
    "for p in img_path:\n",
    "    imgs.append(cv2.imread(p))\n",
    "\n",
    "for p in audio_path:\n",
    "    audios.append(AudioFileClip(p))\n",
    "    audio_frames.append(audios[-1].duration*fps)\n",
    "\n",
    "audio_frames = floor(audio_frames)\n",
    "audio_frames = audio_frames *2\n",
    "\n",
    "print(len(imgs),len(audios))\n",
    "transition_frames = [10,30]\n",
    "transition_lst = [src.transition.Slide,src.transition.Blending]\n",
    "transition = []\n",
    "\n",
    "frames = [audio_frames[0]] # \n",
    "for i in range(1,len(imgs)):\n",
    "    idx = random.randint(0,len(transition_lst)-1)\n",
    "    transition.append(transition_lst[idx](transition_frames[idx]))\n",
    "    frames.append(transition_frames[idx])\n",
    "    frames.append(audio_frames[i])\n",
    "frames"
   ]
  },
  {
   "cell_type": "code",
   "execution_count": 4,
   "metadata": {},
   "outputs": [
    {
     "name": "stderr",
     "output_type": "stream",
     "text": [
      "100%|██████████| 29/29 [02:26<00:00,  5.06s/it]\n"
     ]
    }
   ],
   "source": [
    "vfx = [src.effect.Zoom_in(0,45),\n",
    "    src.effect.Zoom_out(0,45),\n",
    "    src.effect.Fade_in(0,45),\n",
    "    src.effect.Fade_out(-45),\n",
    "    src.effect.Blink(0,60)]\n",
    "videos = [src.effect.Subtitle(subtitle[0],0,audio_frames[0],color=(255,255,255),bg_color=(0,0,0))(vfx[0](src.im2vid(imgs[0],audio_frames[0])))]\n",
    "\n",
    "for i in tqdm.tqdm(range(1,len(imgs))):\n",
    "    x1 = videos[-1]\n",
    "    x2 = src.effect.Subtitle(subtitle[i],0,audio_frames[i],color=(255,255,255),bg_color=(0,0,0))(\n",
    "        vfx[random.randint(0,len(vfx)-1)](src.im2vid(imgs[i],audio_frames[i]))\n",
    "    )\n",
    "\n",
    "\n",
    "    videos.append(transition[i-1](x1,x2))\n",
    "    videos.append(x2)"
   ]
  },
  {
   "cell_type": "code",
   "execution_count": 5,
   "metadata": {},
   "outputs": [
    {
     "data": {
      "text/plain": [
       "[Frame shape(h,w):(1792, 1024), Num_frames:80, FPS:60, Duration:1.3333333333333333 Sec,\n",
       " Frame shape(h,w):(1792, 1024), Num_frames:10, FPS:60, Duration:0.16666666666666666 Sec,\n",
       " Frame shape(h,w):(1792, 1024), Num_frames:132, FPS:60, Duration:2.2 Sec,\n",
       " Frame shape(h,w):(1792, 1024), Num_frames:30, FPS:60, Duration:0.5 Sec,\n",
       " Frame shape(h,w):(1792, 1024), Num_frames:119, FPS:60, Duration:1.9833333333333334 Sec,\n",
       " Frame shape(h,w):(1792, 1024), Num_frames:30, FPS:60, Duration:0.5 Sec,\n",
       " Frame shape(h,w):(1792, 1024), Num_frames:115, FPS:60, Duration:1.9166666666666667 Sec,\n",
       " Frame shape(h,w):(1792, 1024), Num_frames:30, FPS:60, Duration:0.5 Sec,\n",
       " Frame shape(h,w):(1792, 1024), Num_frames:111, FPS:60, Duration:1.85 Sec,\n",
       " Frame shape(h,w):(1792, 1024), Num_frames:30, FPS:60, Duration:0.5 Sec,\n",
       " Frame shape(h,w):(1792, 1024), Num_frames:118, FPS:60, Duration:1.9666666666666666 Sec,\n",
       " Frame shape(h,w):(1792, 1024), Num_frames:10, FPS:60, Duration:0.16666666666666666 Sec,\n",
       " Frame shape(h,w):(1792, 1024), Num_frames:111, FPS:60, Duration:1.85 Sec,\n",
       " Frame shape(h,w):(1792, 1024), Num_frames:10, FPS:60, Duration:0.16666666666666666 Sec,\n",
       " Frame shape(h,w):(1792, 1024), Num_frames:92, FPS:60, Duration:1.5333333333333334 Sec,\n",
       " Frame shape(h,w):(1792, 1024), Num_frames:10, FPS:60, Duration:0.16666666666666666 Sec,\n",
       " Frame shape(h,w):(1792, 1024), Num_frames:168, FPS:60, Duration:2.8 Sec,\n",
       " Frame shape(h,w):(1792, 1024), Num_frames:30, FPS:60, Duration:0.5 Sec,\n",
       " Frame shape(h,w):(1792, 1024), Num_frames:67, FPS:60, Duration:1.1166666666666667 Sec,\n",
       " Frame shape(h,w):(1792, 1024), Num_frames:30, FPS:60, Duration:0.5 Sec,\n",
       " Frame shape(h,w):(1792, 1024), Num_frames:94, FPS:60, Duration:1.5666666666666667 Sec,\n",
       " Frame shape(h,w):(1792, 1024), Num_frames:30, FPS:60, Duration:0.5 Sec,\n",
       " Frame shape(h,w):(1792, 1024), Num_frames:151, FPS:60, Duration:2.5166666666666666 Sec,\n",
       " Frame shape(h,w):(1792, 1024), Num_frames:30, FPS:60, Duration:0.5 Sec,\n",
       " Frame shape(h,w):(1792, 1024), Num_frames:132, FPS:60, Duration:2.2 Sec,\n",
       " Frame shape(h,w):(1792, 1024), Num_frames:10, FPS:60, Duration:0.16666666666666666 Sec,\n",
       " Frame shape(h,w):(1792, 1024), Num_frames:105, FPS:60, Duration:1.75 Sec,\n",
       " Frame shape(h,w):(1792, 1024), Num_frames:30, FPS:60, Duration:0.5 Sec,\n",
       " Frame shape(h,w):(1792, 1024), Num_frames:96, FPS:60, Duration:1.6 Sec,\n",
       " Frame shape(h,w):(1792, 1024), Num_frames:30, FPS:60, Duration:0.5 Sec,\n",
       " Frame shape(h,w):(1792, 1024), Num_frames:96, FPS:60, Duration:1.6 Sec,\n",
       " Frame shape(h,w):(1792, 1024), Num_frames:30, FPS:60, Duration:0.5 Sec,\n",
       " Frame shape(h,w):(1792, 1024), Num_frames:79, FPS:60, Duration:1.3166666666666667 Sec,\n",
       " Frame shape(h,w):(1792, 1024), Num_frames:30, FPS:60, Duration:0.5 Sec,\n",
       " Frame shape(h,w):(1792, 1024), Num_frames:136, FPS:60, Duration:2.2666666666666666 Sec,\n",
       " Frame shape(h,w):(1792, 1024), Num_frames:10, FPS:60, Duration:0.16666666666666666 Sec,\n",
       " Frame shape(h,w):(1792, 1024), Num_frames:102, FPS:60, Duration:1.7 Sec,\n",
       " Frame shape(h,w):(1792, 1024), Num_frames:30, FPS:60, Duration:0.5 Sec,\n",
       " Frame shape(h,w):(1792, 1024), Num_frames:119, FPS:60, Duration:1.9833333333333334 Sec,\n",
       " Frame shape(h,w):(1792, 1024), Num_frames:10, FPS:60, Duration:0.16666666666666666 Sec,\n",
       " Frame shape(h,w):(1792, 1024), Num_frames:123, FPS:60, Duration:2.05 Sec,\n",
       " Frame shape(h,w):(1792, 1024), Num_frames:30, FPS:60, Duration:0.5 Sec,\n",
       " Frame shape(h,w):(1792, 1024), Num_frames:115, FPS:60, Duration:1.9166666666666667 Sec,\n",
       " Frame shape(h,w):(1792, 1024), Num_frames:30, FPS:60, Duration:0.5 Sec,\n",
       " Frame shape(h,w):(1792, 1024), Num_frames:122, FPS:60, Duration:2.033333333333333 Sec,\n",
       " Frame shape(h,w):(1792, 1024), Num_frames:10, FPS:60, Duration:0.16666666666666666 Sec,\n",
       " Frame shape(h,w):(1792, 1024), Num_frames:103, FPS:60, Duration:1.7166666666666666 Sec,\n",
       " Frame shape(h,w):(1792, 1024), Num_frames:30, FPS:60, Duration:0.5 Sec,\n",
       " Frame shape(h,w):(1792, 1024), Num_frames:93, FPS:60, Duration:1.55 Sec,\n",
       " Frame shape(h,w):(1792, 1024), Num_frames:30, FPS:60, Duration:0.5 Sec,\n",
       " Frame shape(h,w):(1792, 1024), Num_frames:139, FPS:60, Duration:2.316666666666667 Sec,\n",
       " Frame shape(h,w):(1792, 1024), Num_frames:30, FPS:60, Duration:0.5 Sec,\n",
       " Frame shape(h,w):(1792, 1024), Num_frames:85, FPS:60, Duration:1.4166666666666667 Sec,\n",
       " Frame shape(h,w):(1792, 1024), Num_frames:10, FPS:60, Duration:0.16666666666666666 Sec,\n",
       " Frame shape(h,w):(1792, 1024), Num_frames:130, FPS:60, Duration:2.1666666666666665 Sec,\n",
       " Frame shape(h,w):(1792, 1024), Num_frames:10, FPS:60, Duration:0.16666666666666666 Sec,\n",
       " Frame shape(h,w):(1792, 1024), Num_frames:115, FPS:60, Duration:1.9166666666666667 Sec,\n",
       " Frame shape(h,w):(1792, 1024), Num_frames:10, FPS:60, Duration:0.16666666666666666 Sec,\n",
       " Frame shape(h,w):(1792, 1024), Num_frames:109, FPS:60, Duration:1.8166666666666667 Sec]"
      ]
     },
     "execution_count": 5,
     "metadata": {},
     "output_type": "execute_result"
    }
   ],
   "source": [
    "videos"
   ]
  },
  {
   "cell_type": "code",
   "execution_count": 6,
   "metadata": {},
   "outputs": [
    {
     "name": "stderr",
     "output_type": "stream",
     "text": [
      "100%|██████████| 59/59 [02:52<00:00,  2.93s/it]\n"
     ]
    }
   ],
   "source": [
    "for i in tqdm.tqdm(range(len(videos))):\n",
    "    for j in range(len(videos[i])):\n",
    "        videos[i].video[j] = cv2.cvtColor(videos[i].video[j],cv2.COLOR_BGR2RGB)"
   ]
  },
  {
   "cell_type": "code",
   "execution_count": 7,
   "metadata": {},
   "outputs": [
    {
     "name": "stderr",
     "output_type": "stream",
     "text": [
      "100%|██████████| 59/59 [00:00<00:00, 219.87it/s]\n"
     ]
    },
    {
     "name": "stdout",
     "output_type": "stream",
     "text": [
      "Moviepy - Building video test.mp4.\n",
      "MoviePy - Writing audio in testTEMP_MPY_wvf_snd.mp3\n"
     ]
    },
    {
     "name": "stderr",
     "output_type": "stream",
     "text": [
      "                                                                     \r"
     ]
    },
    {
     "name": "stdout",
     "output_type": "stream",
     "text": [
      "MoviePy - Done.\n",
      "Moviepy - Writing video test.mp4\n",
      "\n"
     ]
    },
    {
     "name": "stderr",
     "output_type": "stream",
     "text": [
      "                                                                \r"
     ]
    },
    {
     "name": "stdout",
     "output_type": "stream",
     "text": [
      "Moviepy - Done !\n",
      "Moviepy - video ready test.mp4\n"
     ]
    }
   ],
   "source": [
    "video_lst = []\n",
    "\n",
    "\n",
    "for i in tqdm.tqdm(range(len(videos))):\n",
    "    vid = ImageSequenceClip(videos[i].video, fps=fps)\n",
    "    if i%2 == 0:\n",
    "        video_lst.append(vid.set_audio(audios[i//2]))\n",
    "    else :\n",
    "        video_lst.append(vid)\n",
    "    \n",
    "video_clip = concatenate_videoclips(video_lst)\n",
    "\n",
    "# 비디오를 저장합니다.\n",
    "video_clip.write_videofile(\"test.mp4\", codec=\"libx264\")"
   ]
  },
  {
   "cell_type": "code",
   "execution_count": null,
   "metadata": {},
   "outputs": [],
   "source": []
  }
 ],
 "metadata": {
  "kernelspec": {
   "display_name": "Python 3",
   "language": "python",
   "name": "python3"
  },
  "language_info": {
   "codemirror_mode": {
    "name": "ipython",
    "version": 3
   },
   "file_extension": ".py",
   "mimetype": "text/x-python",
   "name": "python",
   "nbconvert_exporter": "python",
   "pygments_lexer": "ipython3",
   "version": "3.10.11"
  }
 },
 "nbformat": 4,
 "nbformat_minor": 2
}
