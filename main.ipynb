{
 "cells": [
  {
   "cell_type": "code",
   "execution_count": 1,
   "metadata": {},
   "outputs": [],
   "source": [
    "import src,cv2"
   ]
  },
  {
   "cell_type": "code",
   "execution_count": 3,
   "metadata": {},
   "outputs": [
    {
     "data": {
      "text/plain": [
       "True"
      ]
     },
     "execution_count": 3,
     "metadata": {},
     "output_type": "execute_result"
    }
   ],
   "source": [
    "img = cv2.cvtColor(cv2.imread(\"./1.webp\"),cv2.COLOR_BGR2RGB)\n",
    "vid = src.im2vid(img,180).crop((0,384,1024,384+1024))\n",
    "\n",
    "effect = src.effect.Zoom_out()(vid)\n",
    "effect.show()"
   ]
  },
  {
   "cell_type": "code",
   "execution_count": 3,
   "metadata": {},
   "outputs": [
    {
     "name": "stdout",
     "output_type": "stream",
     "text": [
      "Moviepy - Building video ./Shake.mp4.\n",
      "Moviepy - Writing video ./Shake.mp4\n",
      "\n"
     ]
    },
    {
     "name": "stderr",
     "output_type": "stream",
     "text": [
      "                                                               \r"
     ]
    },
    {
     "name": "stdout",
     "output_type": "stream",
     "text": [
      "Moviepy - Done !\n",
      "Moviepy - video ready ./Shake.mp4\n"
     ]
    }
   ],
   "source": [
    "from moviepy.editor import ImageSequenceClip\n",
    "ImageSequenceClip(effect.video, fps=60).write_videofile(\"./Shake.mp4\")"
   ]
  },
  {
   "cell_type": "code",
   "execution_count": 33,
   "metadata": {},
   "outputs": [],
   "source": [
    "from gpt import forward_gpt, get_subtitle, create_image, edit_image\n",
    "from clova import create_voice"
   ]
  },
  {
   "cell_type": "code",
   "execution_count": 32,
   "metadata": {},
   "outputs": [],
   "source": [
    "import os\n",
    "\n",
    "novel_id = \"test2_JBZ\"\n",
    "root_path = \"E:/SKT/shorts\"\n",
    "\n",
    "image_path = f\"{root_path}/{novel_id}/image\" # 이미지 파일 저장경로\n",
    "audio_path = f\"{root_path}/{novel_id}/audio\" # 오디오 파일 저장경로\n",
    "character_path = f\"{root_path}/{novel_id}/character\" # 캐릭터 입력 이미지\n",
    "\n",
    "if os.path.exists(f\"{root_path}/{novel_id}\") == False:\n",
    "    os.makedirs(image_path,exist_ok=True)\n",
    "    os.makedirs(audio_path,exist_ok=True)\n",
    "    os.makedirs(character_path,exist_ok=True)\n"
   ]
  },
  {
   "cell_type": "code",
   "execution_count": 21,
   "metadata": {},
   "outputs": [],
   "source": [
    "\n",
    "\n",
    "user_inputs = {\n",
    "    \"novel\" :{\n",
    "        \"제목\" : \"재벌집 막내아들\",\n",
    "        #\"장르\" : \"로맨스 판타지\",\n",
    "        \"강조요소\": \"회귀 전 윤현우의 행보와 억울함을 자세히 표현했으면 좋겠어.\\n윤현우가 진도준으로 회귀해.\\n장면이 지나감에 따라 달라지는 진도준의 나이를 표현해.\\n미래를 아는 진도준이 선택한 목장은 분당이야.\\n미래를 아는 진도준은 구글에 투자\",\n",
    "        \"줄거리\" : \"흙수저 출신 윤현우는 운이 좋게 대기업 '순양그룹'에 입사하여 재벌 3세들의 뒤치다꺼리를 하며 머슴처럼 일했다. 그렇게 회사 안에서 그의 입지는 커지고 회사의 신뢰를 받게 된다.\\n\\n그러던 어느날, 윤현우는 로열패밀리의 비자금 조성과 관련해 죄를 뒤집어쓰고 총에 맞아 생을 마감한다. 죽었다고 생각한 그 순간, 윤현우는 순양그룹 회장의 집을 가고있는 차안에서 순양 그룹의 막내 손자 진도준으로 다시 회귀한다.\\n\\n순양그룹의 창업주는 진양철 회장이고,막내 아들 진윤기는 가장 똑똑했으나 기업을 물려받기를 포기하고 영화감독이 되기를 희망했다가 영화배우 이해인과 결혼한 후 집안으로부터 버림받았다. 그래서 진양철 회장은 진윤기 가족을 마음에 들어하지 않는다. 이 진윤기의 둘째 아들 진도준으로 다시 태어났다. 상속과는 거리가 먼 재벌집 막내아들 진도준이 된 윤현우는 순양그룹을 통째로 집어삼키기 위한 복수극을 준비한다.\\n\\n진도준은 진양철에게 자신의 야망이 그룹경영에 있음을 차근차근 보여주기 시작한다. 할아버지의 모든 것을 갖고 싶다는 진심이 담긴 말을 들은 진양철은 1년간 시험에서 전과목 우수를 받는 조건으로 진짜 말을 사주기로 약속한다.\\n\\n1년간 전과목 우수를 받은 진도준의 약속을 지키기 위해 진양철은 지도를 펴고 어느 지역에 목장을 만들어줄지를 물었다. 진도준은 정부가 개발할 땅이 어디인지를 알고 있었기 때문에 분당 땅 8만평을 목장으로 선택한다.\\n\\n이 땅이 개발되어 140억의 돈을 벌었고, 10살의 진도준은 이 돈을 구글 등에 투자하여 몇 조가 되는 돈을 벌게 된다.\\n\\n성인이 된 진도준은 이렇게 투자해서 번 돈으로 '미라클 인베스트먼트'라는 투자회사를 세우고 정체를 숨긴 채 회사를 운영한다. 진도준은 갖고 싶은 기업이 부실기업이 되도록 덫을 놓고 그 기업을 인수하면서 순양그룹을 먹어버릴 힘을 키운다.\\n\\n진도준은 과연 자신을 죽인 범인을 찾고 순양그룹을 차지할 수 있을것인가?\"\n",
    "    },\n",
    "    \"characters\" : [\n",
    "        {\n",
    "            \"이름\" :  \"윤현우\",\n",
    "            \"나이\" :  \"32\",\n",
    "            \"성격\" : \"오너 일가에 대한 충성심을 지킴, 의리 있음\",\n",
    "            \"의상\" : \"단정한 오피스룩\",\n",
    "            \"img\" : f\"{character_path}/윤현우.webp\"\n",
    "        },\n",
    "        {\n",
    "            \"이름\" : \"진도준\",\n",
    "            \"나이\" : \"10\",\n",
    "            \"성격\" : \"똘똘함\",\n",
    "            \"의상\" : \"단정하고 고급스러운 옷\",\n",
    "        },\n",
    "        {\n",
    "            \"이름\" : \"성인 진도준\",\n",
    "            \"나이\" : \"22\",\n",
    "            \"성격\" : \"똘똘함\",\n",
    "            \"의상\" : \"단정하고 고급스러운 옷\",\n",
    "        },\n",
    "        {\n",
    "            \"이름\" : \"진양철\",\n",
    "            \"나이\" : \"71\",\n",
    "            \"성격\" : \"괴팍함, 미래에 대한 통찰력 있음\",\n",
    "            \"의상\" : \"고급스러운 정장\",\n",
    "        }\n",
    "    ],\n",
    "    \"style\" : \"anime style\"\n",
    "}"
   ]
  },
  {
   "cell_type": "code",
   "execution_count": 20,
   "metadata": {},
   "outputs": [],
   "source": [
    "\n",
    "\n",
    "user_inputs = {\n",
    "    \"novel\" :{\n",
    "        \"제목\" : \"사내맞선\",\n",
    "        \"장르\" : \"로맨스 판타지\",\n",
    "        \"강조요소\" : \"사랑스러운 신하리\\n강태무를 속이는 신하리\",\n",
    "        \"줄거리\" : \"성운 기업에 재직 중인 신하리는 7년 내내 친구 민우를 짝사랑했다. 민우가 자신에게 프로포즈하리라는 착각을 하고 있었으나 알고 보니 장혜지라는 여자 친구가 있었다. 심지어 그날 회사에서 무단으로 빠져나가 민우를 만난 거라 욕이란 욕은 다 먹었다. 심지어 부모님이 퇴직 후 차리신 치킨집이 조류 독감으로 인해 망할 위기에 처해 회사대출금까지 받아 벼랑 끝까지 몰렸다. 그런 그녀의 절친인 부잣집 딸내미 진영서가 하리에게 제안하는데, 그 제안은 무려 자신 대신 소개팅에 나가서 파투를 내라는 것! 그룹 회장인 부친의 강요로 인해 수십차례의 소개팅이 지겨워진 영서는 하리가 섭섭지 않은 돈을 챙겨주고 거래를 한다. 만나서 잘되는 것이 아닌 거하게 차이는 것이 목표. 하리는 최대한 자극적 컨셉으로 남자를 잡아먹는 팜므파탈로 변신하고 알아보지 못하게 분홍색 가발까지 쓴다. 이에 반해 남주인공 강태무는 세상에서 일을 가장 사랑한다. 그러나 회장인 할아버지의 끝없는 결혼 타령 때문에 일에 집중할 수 없었다. 이번에 누가 나오든 간에 그 사람하고 꼭 결혼하고 말겠다는 굳은 결심을 하고 소개팅 장소로 향합니다. 차여야만 하는 하리와 결혼해야만 하는 태무. 창과 방패의 싸움이 시작되었다. 하리는 차이기 위해 아무 말이나 내뱉다가 돌연 태무가 자신 회사의 사장임을 깨달았다. 그리고 그가 거짓말과 사내 연애를 가장 혐오하는 꽉 막힌 보수주의자임을 떠올리다. 하지만 한번 마음먹으면 꼭 하고 마는 태무는 하리에게 결혼하자고 말하고 실제 소개팅 상대인 진영서의 집안은 축제 분위기가 되었다 이를 순순하게 밝힐 수 없는 영서는 하리에게 더 큰 돈을 제시하고 결국 하리는 영서인척 다시 한번 태무를 만나 헤어질 구실을 만드는데...\"\n",
    "    },\n",
    "    \"characters\" : [\n",
    "        {\n",
    "            \"이름\" :  \"신하리\",\n",
    "            \"나이\" :  \"29\",\n",
    "            \"외형\" : \"사랑스러운 긴,머리\",\n",
    "            \"의상\" : \"단정한 오피스 룩\",\n",
    "        },\n",
    "        {\n",
    "            \"이름\" :  \"강태무\",\n",
    "            \"나이\" :  \"31\",\n",
    "            \"외형\" : \"잘생김\",\n",
    "            \"의상\" : \"단정하고 고급스러운 정장\",\n",
    "        },\n",
    "        {\n",
    "            \"이름\" :  \"진영서\",\n",
    "            \"나이\" :  \"29\",\n",
    "            \"외형\" : \"단발 머리\",\n",
    "            \"의상\" : \"명품 옷\",\n",
    "        },\n",
    "        {\n",
    "            \"이름\" :  \"민우\",\n",
    "            \"나이\" :  \"29\",\n",
    "            \"외형\" : \"훈훈한 외모\",\n",
    "            \"의상\" : \"깔끔한 옷\",\n",
    "        },\n",
    "    ],\n",
    "    \"style\" : \"anime style\"\n",
    "}"
   ]
  },
  {
   "cell_type": "code",
   "execution_count": 5,
   "metadata": {},
   "outputs": [],
   "source": [
    "\n",
    "\n",
    "user_inputs = {\n",
    "    \"novel\" :{\n",
    "        \"제목\" : \"김비서가 왜그럴까?\",\n",
    "        \"장르\" : \"로맨스 판타지\",\n",
    "        \"강조요소\": \"김미소와 이영준의 감정 변화를 두드러지게 해줘.\",\n",
    "        \"줄거리\" : \"잘생긴 외모에 훌륭한 두뇌,\\n그리고 매력남의 필수조건인 싸가지까지 두루 갖춘,\\n스스로가 저 하늘 아래 가장 높은 존재인 남자,\\n유일그룹 부회장, 나르시시스트 이. 영. 준.\\n\\n9년 동안 이영준의 개인, 수행, 의전비서,\\n때로는 운전기사, 때로는 파티 파트너까지 소화했던,\\n능력 만점 외모 만점,\\n부회장의 미인 비서, 방글방글 김. 미. 소.\\n\\n하늘 아래 거리낄 것 하나 없던 이영준에게\\n어느 날 갑자기 던져진 고민거리 하나!\\n김 비서가 왜 그러지?\\n\\n그들 사이의 비밀 하나 - 과거의 기억 조각 맞추기.\\n감추고만 싶은 남자와 찾고만 싶은 여자 사이의 한 판 승부!\\n김 비서가 왜 그럴까!\"\n",
    "    },\n",
    "    \"characters\" : [\n",
    "        {\n",
    "            \"이름\" :  \"이영준\",\n",
    "            \"나이\" :  \"32\",\n",
    "            \"성격\" : \"나르시시스트, 자신감이 넘침\",\n",
    "            \"img\" : f\"{character_path}/이영준.png\"\n",
    "        },\n",
    "        {\n",
    "            \"이름\" : \"김미소\",\n",
    "            \"나이\" : \"27\",\n",
    "            \"성격\" : \"밝음,착함,다재다능함\",\n",
    "            \"img\" : f\"{character_path}/김미소.png\"\n",
    "        }\n",
    "    ],\n",
    "    \"style\" : \"anime style\"\n",
    "}"
   ]
  },
  {
   "cell_type": "code",
   "execution_count": 22,
   "metadata": {},
   "outputs": [
    {
     "name": "stdout",
     "output_type": "stream",
     "text": [
      "재벌집 막내아들\n",
      "작업1\n",
      "작업2\n",
      "작업3\n",
      "작업4\n",
      "작업5\n",
      "작업6\n",
      "{'narr': ['흙수저 출신 윤현우, 대기업 순양그룹에 발을 들이다.', '재벌 3세들의 뒤치다꺼리를 하며, 마침내 신뢰를 얻어가는 그의 삶.', '그러나, 비자금 조성의 누명을 쓰고 총알 앞에 선 순간, 그의 인생이 끝나는 듯했다.', '죽음을 넘어 재벌집 막내아들, 진도준으로 환생하다.', '버림받은 가문의 아들, 진도준. 그러나 그의 눈에는 복수의 불꽃이 타오른다.', '순양그룹 창업주 진양철의 마음을 얻기 위한 진도준의 첫 걸음.', '\"할아버지, 저의 꿈은 목장입니다.\" 진도준의 거짓말이 시작되다.', '앞날을 내다보고 선택한 땅, 분당. 진도준의 목장 운영이 시작된다.', '140억의 수익, 그리고 그 시작점이 된 목장. 진도준의 첫번째 승리.', '10살의 나이에 구글에 투자하여 억만장자가 되다.', '미라클 인베스트먼트, 정체를 숨긴 채 운영하는 진도준의 투자 회사.', '기업을 먹어치우는 덫, 순양그룹을 집어삼키려는 진도준의 치밀한 계획.', '과거 자신을 죽인 이를 찾아내는 진도준.', '순양그룹을 향한 진도준의 마지막 복수, 그의 집념이 만들어낸 결과.', '재벌집 막내아들에서 순양그룹의 실질적 주인으로, 진도준의 장대한 복수극이 마침내 완성되다.'], 'scene': [\"Should be illustration of anime style, vertical image, no wide image, A 32-year-old man named Yoon Hyun-woo, with black hair styled in a clean, professional manner and glasses framing his sharp gaze, stands in front of a large corporate logo for Sunyang Group. He wears a neatly tailored office look, filled with determination and hope, showcasing his loyal demeanor and a sense of duty. His well-defined facial features express an apparent dedication to his responsibilities, set against the backdrop of Sunyang Group's imposing logo.\", 'Should be illustration of anime style, vertical image, no wide image, A 32-year-old Yoon Hyun-woo, characterized by his professional black hair, glasses enhancing his focused and sharp gaze, and dressed in an impeccably tailored office attire, is surrounded by third-generation chaebols in a luxurious company office. Despite the opulent surroundings, his expression and posture convey tireless work ethic and unyielding dedication. His features are well-defined, underlining his loyalty and sense of duty, amidst the backdrop of wealth and power.', \"Should be illustration of anime style, vertical image, no wide image, A 32-year-old Yoon Hyun-woo, with neat, black hair and glasses that emphasize his analytical gaze, is seen distraught, kneeling on the ground with hands raised in surrender in a dark alley. He's wearing his office attire, now disheveled, expressing his loyalty and duty even in the face of betrayal. Around him, shadowy figures with guns pointed towards him enhance the tension, contrasting sharply with his figure embodying a mix of determination and despair under the dire circumstances.\", \"Should be illustration of anime style, vertical image, no wide image, Yoon Hyun-woo, a 32-year-old man now awakening as Jin Do-jun, appears startled and confused as he finds himself lying in a lavish bedroom, one befitting a chaebol heir. This bedroom showcases luxury and wealth, with exquisite furnishings and decorations indicative of a high social status. His black hair is a bit disheveled from sleep, and without his glasses, his gaze looks around in bewilderment. Despite the opulent surroundings, his expression reveals a deep sense of disorientation, contrasting with the bedroom's promise of power and privilege.\", \"Should be illustration of anime style, vertical image, no wide image, Jin Do-jun, now a 10-year-old boy characterized by short, neatly combed hair and penetrating eyes reflecting intelligence, stands in front of a mirror in a well-furnished, opulent room. He's dressed in neat and luxurious clothing, hinting at his wealthy background with a fine material blazer over a crisp shirt, as he contemplates his new identity as the youngest son of a corporate mogul. The contrast between his youthful, bright appearance and the mature, sophisticated surroundings emphasizes his unexpected journey and the responsibilities that now lie on his small shoulders.\", \"Should be illustration of anime style, vertical image, no wide image, In a luxurious, sunlight-drenched study adorned with old and rich wooden interiors, 10-year-old Jin Do-jun, displaying his intelligence through penetrating eyes and dressed in refined, luxurious attire, is seen presenting his ambitions discreetly to his grandfather, Jin Yang-cheol. Jin Yang-cheol, a 71-year-old man with silver hair neatly combed back and wearing sophisticated suits, listens intently, his deep-set eyes gleaming with wisdom and a hint of sternness. This scene encapsulates a pivotal moment, highlighting the contrast between Jin Do-jun's youthful determination and Jin Yang-cheol's experienced gaze, set against the backdrop of a study that bears witness to generations of power and insight.\", \"Should be illustration of anime style, vertical image, no wide image, In a grand office, 10-year-old Jin Do-jun, dressed in immaculate and luxurious clothing that reflects his affluent background, confidently points at a spot on a large map sprawled on a table. He has short, neatly combed hair and his sharp, intelligent eyes are focused on the task at hand. Standing beside him, observing with a keen and insightful gaze, is 71-year-old Jin Yang-cheol. Jin Yang-cheol's silver hair is neatly combed back, and his sophisticated suit signifies his status. The rich, detailed wooden interiors of the office and the sunlight filtering through lend an air of significance to this moment, illustrating the transfer of wisdom and ambition between generations.\", \"Should be illustration of anime style, vertical image, no wide image, Jin Do-jun, now depicted at age 10, embodies a vibrant spirit of leadership and foresight, actively managing the construction and planning of the Bundang ranch. Dressed in his characteristic neat, upscale attire that hints at his wealthy background, he walks through the vast, open lands with a look of determination. His short, neatly combed hair and the intelligent gleam in his eyes reflect his exceptional acumen for someone so young. The sprawling landscape of the future ranch behind him underlines his vision, emphasizing the ambitious journey he's embarked on, transforming the expansive land into a symbol of his burgeoning legacy.\", \"Should be illustration of anime style, vertical image, no wide image, At the top of the Sunyang Group's skyscraper, an adult Jin Do-jun, at 22 years old, is depicted smirking with a sense of accomplishment as he hands over a financial report. This report evidences immense profits from the Bundang ranch deal. He is dressed in polished, upscale attire that complements his slim, athletic build, and his styled, dark hair gives him a suave appearance. His eyes, carrying a purposeful gleam of intelligence, reflect the astuteness of his investment decisions. The backdrop features a panoramic view of the city below, symbolizing his towering achievements and the heights of success he has reached through strategic foresight and bold ventures.\", 'Should be illustration of anime style, vertical image, no wide image, A young Jin Do-jun, captured at 10 years old, is focused intently on a computer screen, where the Google homepage is prominent alongside a rising stock price graph. His bright, penetrating eyes and short, neatly kept hair emphasize his youthful intelligence and the serious, determined expression on his face. He is dressed in refined, luxurious clothes suitable for a child of wealth, yet his posture and engagement with the task show a depth of understanding far beyond his years. This moment encapsulates the melding of youth and ambition, as Jin Do-jun navigates the complexities of investment with an innate skill, predicting a future of financial success.', \"Should be illustration of anime style, vertical image, no wide image, At age 22, Jin Do-jun oversees operations at Miracle Investment, standing confidently in a modern and stylish office environment characterized by sleek, cutting-edge design. He's dressed in his signature polished and upscale attire, his dark hair styled perfectly, epitomizing the modern, astute businessman. Around him, multiple screens blaze with real-time market data and financial charts, illuminating his composed face that reflects a sharp focus and unwavering dedication. His athletic build is evident even in the confines of the sophisticated office setting. This scene highlights Jin Do-jun's role as a visionary in the financial world, effortlessly melding youthful ambition with the prowess of a seasoned investor.\", \"Should be illustration of anime style, vertical image, no wide image, The 22-year-old Jin Do-jun is captured in a moment of intense strategy, laying out traps for targeting companies, a predatory glint in his eyes showcasing his astute and relentless pursuit of success. His upscale attire, complemented by his styled, dark hair, frames him not just as a figure of wealth but as a formidable player in the corporate arena. Around him, digital displays buzz with corporate data and the latest financial news, casting a futuristic glow on his focused expression. This setting, filled with gleaming screens and the latest technology, highlights Jin Do-jun's ability to navigate and manipulate the market to his advantage, demonstrating his unparalleled intelligence and ambition in the quest for corporate dominance.\", \"Should be illustration of anime style, vertical image, no wide image, In the depth of the night, a 22-year-old Jin Do-jun is seen strategizing in a dimly lit room, the darkness enveloping him like a cloak as he focuses on revealing evidence that will uncover the identity of his attackers. His attire, though upscale, bears a more casual touch, suitable for the solitary hours spent in deep thought. The ambient light casts shadows over his suave, styled dark hair and illuminates the determined gleam of intelligence in his eyes. Around him, scattered papers and digital screens contain crucial data, plots, and connections, all leading to the moment of revelation. This scene captures Jin Do-jun's vengeful dedication, as well as his relentless pursuit of justice and truth, marking a defining point in his quest for retribution and control.\", \"Should be illustration of anime style, vertical image, no wide image, In the decisive atmosphere of a major boardroom meeting within the Sunyang Group, 22-year-old Jin Do-jun stands assertively at the head of a large table, commanding the attention of all the influential figures seated around it. Dressed in his impeccably tailored, high-quality suit that signifies his maturity and authority, he exudes confidence and astuteness. His dark hair is styled to perfection, reflecting his meticulous attention to detail. The room is filled with veteran business leaders, yet it's Jin Do-jun's composed demeanor and the purposeful gleam in his eyes that dominate the scene. This moment marks the pinnacle of his journey, as he assertively claims his rightful place at the helm of the empire, his stance and the respect he commands underscoring the magnitude of his achievements and the pivotal role he now plays within the conglomerate.\", \"Should be illustration of anime style, vertical image, no wide image, As the de facto leader of Sunyang Group, Jin Do-jun, aged 22, stands in his grandiose office, gazing into a mirror that reflects not only his image but also the culmination of his extraordinary journey and victories. Clad in his polished, upscale attire, which speaks volumes of his ascent to power, his styled, dark hair epitomizes the sleek modernity he embodies. The office, a testament to his achievements, is lavishly appointed, symbolizing the wealth and influence he has accrued. In this reflective moment, the purposeful gleam in his intelligent eyes betrays a depth of emotion and the weight of the legacy he carries. This scene poignantly encapsulates Jin Do-jun's transformation from a determined youth to a formidable leader, highlighting the introspection and resolve that have guided him to the pinnacle of success.\"], 'char': {'윤현우': 'A 32-year-old man with a loyal demeanor and a sense of duty, wearing a neatly tailored office look. He has black hair styled in a clean, professional manner, glasses framing his sharp gaze, and his facial features are well-defined with an apparent dedication to his responsibilities.', '진도준': 'A 10-year-old boy who is very bright and sharp for his age, wearing neat and luxurious clothing. He has short, neatly combed hair, penetrating eyes that reflect his intelligence, and a posture that displays confidence. His outfit hints at his wealthy background, with a fine material blazer over a crisp shirt.', '성인 진도준': 'A 22-year-old man, smart and astute, dressed in polished and upscale attire. He has styled, dark hair giving him a suave appearance, eyes that carry a purposeful gleam of intelligence, and a composed demeanor that exudes confidence. His clothing is of high quality, showcasing a well-fitted suit that complements his slim, athletic build, further accentuating his affluent background.', '진양철': 'A 71-year-old man with a quirky character and insightful views about the future, donning sophisticated suits. He has silver hair, neatly combed back, and deep-set eyes that gleam with wisdom and a hint of sternness. His face carries wrinkles that tell stories of experience, decision-making, and power. His attire is impeccably tailored, reflecting his status and attention to detail, complementing his stately posture and commanding presence.'}, 'vfx': ['페이드 인', '없음', '갈라짐 효과', '눈 깜빡임 효과', '줌 아웃', '줌 인', '페이드 아웃', '줌 인', '페이드 아웃', '줌 인', '없음', '갈라짐 효과', '눈 깜빡임 효과', '페이드 인', '페이드 아웃'], 'usage': {'completion_tokens': 5309, 'prompt_tokens': 168944, 'total_tokens': 174253}}\n"
     ]
    }
   ],
   "source": [
    "print(user_inputs['novel']['제목'])\n",
    "ret = forward_gpt(user_inputs=user_inputs)\n",
    "print(ret)\n",
    "#ret['narr'] = 장면별 나레이션 정보 (list형식 len = 15)\n",
    "#ret['scene'] = 장면 프롬프트 (list형식 len = 15)\n",
    "#ret['char'] = 캐릭터 프롬프트 (dict)\n",
    "#ret['vfx'] = 영상 효과 (list형식 len = 15)\n",
    "#ret['usage'] = 비용 "
   ]
  },
  {
   "cell_type": "code",
   "execution_count": 23,
   "metadata": {},
   "outputs": [
    {
     "data": {
      "text/plain": [
       "{'completion_tokens': 5309, 'prompt_tokens': 168944, 'total_tokens': 174253}"
      ]
     },
     "execution_count": 23,
     "metadata": {},
     "output_type": "execute_result"
    }
   ],
   "source": [
    "ret['usage']"
   ]
  },
  {
   "cell_type": "code",
   "execution_count": 24,
   "metadata": {},
   "outputs": [
    {
     "data": {
      "text/plain": [
       "1.84871"
      ]
     },
     "execution_count": 24,
     "metadata": {},
     "output_type": "execute_result"
    }
   ],
   "source": [
    "(ret['usage']['prompt_tokens']*0.01+ret['usage']['completion_tokens']*0.03)/1000"
   ]
  },
  {
   "cell_type": "code",
   "execution_count": 25,
   "metadata": {},
   "outputs": [
    {
     "data": {
      "text/plain": [
       "{'윤현우': 'A 32-year-old man with a loyal demeanor and a sense of duty, wearing a neatly tailored office look. He has black hair styled in a clean, professional manner, glasses framing his sharp gaze, and his facial features are well-defined with an apparent dedication to his responsibilities.',\n",
       " '진도준': 'A 10-year-old boy who is very bright and sharp for his age, wearing neat and luxurious clothing. He has short, neatly combed hair, penetrating eyes that reflect his intelligence, and a posture that displays confidence. His outfit hints at his wealthy background, with a fine material blazer over a crisp shirt.',\n",
       " '성인 진도준': 'A 22-year-old man, smart and astute, dressed in polished and upscale attire. He has styled, dark hair giving him a suave appearance, eyes that carry a purposeful gleam of intelligence, and a composed demeanor that exudes confidence. His clothing is of high quality, showcasing a well-fitted suit that complements his slim, athletic build, further accentuating his affluent background.',\n",
       " '진양철': 'A 71-year-old man with a quirky character and insightful views about the future, donning sophisticated suits. He has silver hair, neatly combed back, and deep-set eyes that gleam with wisdom and a hint of sternness. His face carries wrinkles that tell stories of experience, decision-making, and power. His attire is impeccably tailored, reflecting his status and attention to detail, complementing his stately posture and commanding presence.'}"
      ]
     },
     "execution_count": 25,
     "metadata": {},
     "output_type": "execute_result"
    }
   ],
   "source": [
    "ret['char']"
   ]
  },
  {
   "cell_type": "markdown",
   "metadata": {},
   "source": [
    "# 이미지 생성"
   ]
  },
  {
   "cell_type": "code",
   "execution_count": 26,
   "metadata": {},
   "outputs": [
    {
     "name": "stdout",
     "output_type": "stream",
     "text": [
      "15 15\n",
      "0 흙수저 출신 윤현우, 대기업 순양그룹에 발을 들이다.\n",
      "1 재벌 3세들의 뒤치다꺼리를 하며, 마침내 신뢰를 얻어가는 그의 삶.\n",
      "2 그러나, 비자금 조성의 누명을 쓰고 총알 앞에 선 순간, 그의 인생이 끝나는 듯했다.\n",
      "3 죽음을 넘어 재벌집 막내아들, 진도준으로 환생하다.\n",
      "4 버림받은 가문의 아들, 진도준. 그러나 그의 눈에는 복수의 불꽃이 타오른다.\n",
      "5 순양그룹 창업주 진양철의 마음을 얻기 위한 진도준의 첫 걸음.\n",
      "6 \"할아버지, 저의 꿈은 목장입니다.\" 진도준의 거짓말이 시작되다.\n",
      "7 앞날을 내다보고 선택한 땅, 분당. 진도준의 목장 운영이 시작된다.\n",
      "8 140억의 수익, 그리고 그 시작점이 된 목장. 진도준의 첫번째 승리.\n",
      "9 10살의 나이에 구글에 투자하여 억만장자가 되다.\n",
      "10 미라클 인베스트먼트, 정체를 숨긴 채 운영하는 진도준의 투자 회사.\n",
      "11 기업을 먹어치우는 덫, 순양그룹을 집어삼키려는 진도준의 치밀한 계획.\n",
      "12 과거 자신을 죽인 이를 찾아내는 진도준.\n",
      "13 순양그룹을 향한 진도준의 마지막 복수, 그의 집념이 만들어낸 결과.\n",
      "14 재벌집 막내아들에서 순양그룹의 실질적 주인으로, 진도준의 장대한 복수극이 마침내 완성되다.\n"
     ]
    }
   ],
   "source": [
    "print(len(ret['narr']),len(ret['scene']))\n",
    "for i,n in enumerate(ret['narr']):\n",
    "    print(i,n)"
   ]
  },
  {
   "cell_type": "code",
   "execution_count": 29,
   "metadata": {},
   "outputs": [
    {
     "name": "stdout",
     "output_type": "stream",
     "text": [
      "0 Should be illustration of anime style, vertical image, no wide image, A 32-year-old man named Yoon Hyun-woo, with black hair styled in a clean, professional manner and glasses framing his sharp gaze, stands in front of a large corporate logo for Sunyang Group. He wears a neatly tailored office look, filled with determination and hope, showcasing his loyal demeanor and a sense of duty. His well-defined facial features express an apparent dedication to his responsibilities, set against the backdrop of Sunyang Group's imposing logo.\n",
      "1 Should be illustration of anime style, vertical image, no wide image, A 32-year-old Yoon Hyun-woo, characterized by his professional black hair, glasses enhancing his focused and sharp gaze, and dressed in an impeccably tailored office attire, is surrounded by third-generation chaebols in a luxurious company office. Despite the opulent surroundings, his expression and posture convey tireless work ethic and unyielding dedication. His features are well-defined, underlining his loyalty and sense of duty, amidst the backdrop of wealth and power.\n",
      "2 Should be illustration of anime style, vertical image, no wide image, A 32-year-old Yoon Hyun-woo, with neat, black hair and glasses that emphasize his analytical gaze, is seen distraught, kneeling on the ground with hands raised in surrender in a dark alley. He's wearing his office attire, now disheveled, expressing his loyalty and duty even in the face of betrayal. Around him, shadowy figures with guns pointed towards him enhance the tension, contrasting sharply with his figure embodying a mix of determination and despair under the dire circumstances.\n",
      "3 Should be illustration of anime style, vertical image, no wide image, Yoon Hyun-woo, a 32-year-old man now awakening as Jin Do-jun, appears startled and confused as he finds himself lying in a lavish bedroom, one befitting a chaebol heir. This bedroom showcases luxury and wealth, with exquisite furnishings and decorations indicative of a high social status. His black hair is a bit disheveled from sleep, and without his glasses, his gaze looks around in bewilderment. Despite the opulent surroundings, his expression reveals a deep sense of disorientation, contrasting with the bedroom's promise of power and privilege.\n",
      "4 Should be illustration of anime style, vertical image, no wide image, Jin Do-jun, now a 10-year-old boy characterized by short, neatly combed hair and penetrating eyes reflecting intelligence, stands in front of a mirror in a well-furnished, opulent room. He's dressed in neat and luxurious clothing, hinting at his wealthy background with a fine material blazer over a crisp shirt, as he contemplates his new identity as the youngest son of a corporate mogul. The contrast between his youthful, bright appearance and the mature, sophisticated surroundings emphasizes his unexpected journey and the responsibilities that now lie on his small shoulders.\n",
      "5 Should be illustration of anime style, vertical image, no wide image, In a luxurious, sunlight-drenched study adorned with old and rich wooden interiors, 10-year-old Jin Do-jun, displaying his intelligence through penetrating eyes and dressed in refined, luxurious attire, is seen presenting his ambitions discreetly to his grandfather, Jin Yang-cheol. Jin Yang-cheol, a 71-year-old man with silver hair neatly combed back and wearing sophisticated suits, listens intently, his deep-set eyes gleaming with wisdom and a hint of sternness. This scene encapsulates a pivotal moment, highlighting the contrast between Jin Do-jun's youthful determination and Jin Yang-cheol's experienced gaze, set against the backdrop of a study that bears witness to generations of power and insight.\n",
      "6 Should be illustration of anime style, vertical image, no wide image, In a grand office, 10-year-old Jin Do-jun, dressed in immaculate and luxurious clothing that reflects his affluent background, confidently points at a spot on a large map sprawled on a table. He has short, neatly combed hair and his sharp, intelligent eyes are focused on the task at hand. Standing beside him, observing with a keen and insightful gaze, is 71-year-old Jin Yang-cheol. Jin Yang-cheol's silver hair is neatly combed back, and his sophisticated suit signifies his status. The rich, detailed wooden interiors of the office and the sunlight filtering through lend an air of significance to this moment, illustrating the transfer of wisdom and ambition between generations.\n",
      "7 Should be illustration of anime style, vertical image, no wide image, Jin Do-jun, now depicted at age 10, embodies a vibrant spirit of leadership and foresight, actively managing the construction and planning of the Bundang ranch. Dressed in his characteristic neat, upscale attire that hints at his wealthy background, he walks through the vast, open lands with a look of determination. His short, neatly combed hair and the intelligent gleam in his eyes reflect his exceptional acumen for someone so young. The sprawling landscape of the future ranch behind him underlines his vision, emphasizing the ambitious journey he's embarked on, transforming the expansive land into a symbol of his burgeoning legacy.\n",
      "8 Should be illustration of anime style, vertical image, no wide image, At the top of the Sunyang Group's skyscraper, an adult Jin Do-jun, at 22 years old, is depicted smirking with a sense of accomplishment as he hands over a financial report. This report evidences immense profits from the Bundang ranch deal. He is dressed in polished, upscale attire that complements his slim, athletic build, and his styled, dark hair gives him a suave appearance. His eyes, carrying a purposeful gleam of intelligence, reflect the astuteness of his investment decisions. The backdrop features a panoramic view of the city below, symbolizing his towering achievements and the heights of success he has reached through strategic foresight and bold ventures.\n",
      "9 Should be illustration of anime style, vertical image, no wide image, A young Jin Do-jun, captured at 10 years old, is focused intently on a computer screen, where the Google homepage is prominent alongside a rising stock price graph. His bright, penetrating eyes and short, neatly kept hair emphasize his youthful intelligence and the serious, determined expression on his face. He is dressed in refined, luxurious clothes suitable for a child of wealth, yet his posture and engagement with the task show a depth of understanding far beyond his years. This moment encapsulates the melding of youth and ambition, as Jin Do-jun navigates the complexities of investment with an innate skill, predicting a future of financial success.\n",
      "10 Should be illustration of anime style, vertical image, no wide image, At age 22, Jin Do-jun oversees operations at Miracle Investment, standing confidently in a modern and stylish office environment characterized by sleek, cutting-edge design. He's dressed in his signature polished and upscale attire, his dark hair styled perfectly, epitomizing the modern, astute businessman. Around him, multiple screens blaze with real-time market data and financial charts, illuminating his composed face that reflects a sharp focus and unwavering dedication. His athletic build is evident even in the confines of the sophisticated office setting. This scene highlights Jin Do-jun's role as a visionary in the financial world, effortlessly melding youthful ambition with the prowess of a seasoned investor.\n",
      "11 Should be illustration of anime style, vertical image, no wide image, The 22-year-old Jin Do-jun is captured in a moment of intense strategy, laying out traps for targeting companies, a predatory glint in his eyes showcasing his astute and relentless pursuit of success. His upscale attire, complemented by his styled, dark hair, frames him not just as a figure of wealth but as a formidable player in the corporate arena. Around him, digital displays buzz with corporate data and the latest financial news, casting a futuristic glow on his focused expression. This setting, filled with gleaming screens and the latest technology, highlights Jin Do-jun's ability to navigate and manipulate the market to his advantage, demonstrating his unparalleled intelligence and ambition in the quest for corporate dominance.\n",
      "12 Should be illustration of anime style, vertical image, no wide image, In the depth of the night, a 22-year-old Jin Do-jun is seen strategizing in a dimly lit room, the darkness enveloping him like a cloak as he focuses on revealing evidence that will uncover the identity of his attackers. His attire, though upscale, bears a more casual touch, suitable for the solitary hours spent in deep thought. The ambient light casts shadows over his suave, styled dark hair and illuminates the determined gleam of intelligence in his eyes. Around him, scattered papers and digital screens contain crucial data, plots, and connections, all leading to the moment of revelation. This scene captures Jin Do-jun's vengeful dedication, as well as his relentless pursuit of justice and truth, marking a defining point in his quest for retribution and control.\n",
      "13 Should be illustration of anime style, vertical image, no wide image, In the decisive atmosphere of a major boardroom meeting within the Sunyang Group, 22-year-old Jin Do-jun stands assertively at the head of a large table, commanding the attention of all the influential figures seated around it. Dressed in his impeccably tailored, high-quality suit that signifies his maturity and authority, he exudes confidence and astuteness. His dark hair is styled to perfection, reflecting his meticulous attention to detail. The room is filled with veteran business leaders, yet it's Jin Do-jun's composed demeanor and the purposeful gleam in his eyes that dominate the scene. This moment marks the pinnacle of his journey, as he assertively claims his rightful place at the helm of the empire, his stance and the respect he commands underscoring the magnitude of his achievements and the pivotal role he now plays within the conglomerate.\n",
      "14 Should be illustration of anime style, vertical image, no wide image, As the de facto leader of Sunyang Group, Jin Do-jun, aged 22, stands in his grandiose office, gazing into a mirror that reflects not only his image but also the culmination of his extraordinary journey and victories. Clad in his polished, upscale attire, which speaks volumes of his ascent to power, his styled, dark hair epitomizes the sleek modernity he embodies. The office, a testament to his achievements, is lavishly appointed, symbolizing the wealth and influence he has accrued. In this reflective moment, the purposeful gleam in his intelligent eyes betrays a depth of emotion and the weight of the legacy he carries. This scene poignantly encapsulates Jin Do-jun's transformation from a determined youth to a formidable leader, highlighting the introspection and resolve that have guided him to the pinnacle of success.\n"
     ]
    }
   ],
   "source": [
    "for i,n in enumerate(ret['scene']):\n",
    "    print(i,n)"
   ]
  },
  {
   "cell_type": "code",
   "execution_count": 27,
   "metadata": {},
   "outputs": [
    {
     "name": "stdout",
     "output_type": "stream",
     "text": [
      "0\n",
      "1\n",
      "2\n",
      "3\n",
      "4\n",
      "5\n",
      "Badrequest(인덱스, 회수):5, 1\n",
      "5\n",
      "6\n",
      "Badrequest(인덱스, 회수):6, 1\n",
      "6\n",
      "7\n",
      "8\n",
      "9\n",
      "10\n",
      "11\n",
      "12\n",
      "13\n",
      "14\n",
      "Badrequest(인덱스, 회수):14, 1\n",
      "14\n"
     ]
    }
   ],
   "source": [
    "image_path_list = create_image(image_path,ret['scene'],n=2)"
   ]
  },
  {
   "cell_type": "markdown",
   "metadata": {},
   "source": [
    "# 이미지 편집\n"
   ]
  },
  {
   "cell_type": "code",
   "execution_count": 46,
   "metadata": {},
   "outputs": [
    {
     "data": {
      "text/plain": [
       "'Should be illustration of anime style, vertical image, no wide image, A young Jin Do-jun, captured at 10 years old, is focused intently on a computer screen, where the Google homepage is prominent alongside a rising stock price graph. His bright, penetrating eyes and short, neatly kept hair emphasize his youthful intelligence and the serious, determined expression on his face. He is dressed in refined, luxurious clothes suitable for a child of wealth, yet his posture and engagement with the task show a depth of understanding far beyond his years. This moment encapsulates the melding of youth and ambition, as Jin Do-jun navigates the complexities of investment with an innate skill, predicting a future of financial success.'"
      ]
     },
     "execution_count": 46,
     "metadata": {},
     "output_type": "execute_result"
    }
   ],
   "source": [
    "ret['scene'][9]"
   ]
  },
  {
   "cell_type": "code",
   "execution_count": 50,
   "metadata": {},
   "outputs": [
    {
     "name": "stdout",
     "output_type": "stream",
     "text": [
      "인물 프롬프트:\n",
      "- 윤현우 : A 32-year-old man with a loyal demeanor and a sense of duty, wearing a neatly tailored office look. He has black hair styled in a clean, professional manner, glasses framing his sharp gaze, and his facial features are well-defined with an apparent dedication to his responsibilities.\n",
      "- 진도준 : A 10-year-old boy who is very bright and sharp for his age, wearing neat and luxurious clothing. He has short, neatly combed hair, penetrating eyes that reflect his intelligence, and a posture that displays confidence. His outfit hints at his wealthy background, with a fine material blazer over a crisp shirt.\n",
      "- 성인 진도준 : A 22-year-old man, smart and astute, dressed in polished and upscale attire. He has styled, dark hair giving him a suave appearance, eyes that carry a purposeful gleam of intelligence, and a composed demeanor that exudes confidence. His clothing is of high quality, showcasing a well-fitted suit that complements his slim, athletic build, further accentuating his affluent background.\n",
      "- 진양철 : A 71-year-old man with a quirky character and insightful views about the future, donning sophisticated suits. He has silver hair, neatly combed back, and deep-set eyes that gleam with wisdom and a hint of sternness. His face carries wrinkles that tell stories of experience, decision-making, and power. His attire is impeccably tailored, reflecting his status and attention to detail, complementing his stately posture and commanding presence.\n",
      "\n",
      "{'role': 'assistant', 'content': \"Anime style, vertical illustration: A 22-year-old Jin Do-jun, smart and astute, is engrossed in a computer screen showing the Google homepage next to a rising stock price graph. His dark hair is neatly combed to frame his face, while his brown eyes, made even sharper, gleam with an intensified purpose and intelligence. This highlights his matured youth alongside a serious, determined expression. Dressed in polished, high-end attire, his posture before the computer reveals a deep engagement with complex investment tasks, blending ambition with experienced insight. This scene illustrates Jin Do-jun's journey from a prodigious child to a successful adult, adept in the financial world, hinting at a future filled with significant achievements.\"}\n"
     ]
    },
    {
     "data": {
      "text/plain": [
       "\"Anime style, vertical illustration: A 22-year-old Jin Do-jun, smart and astute, is engrossed in a computer screen showing the Google homepage next to a rising stock price graph. His dark hair is neatly combed to frame his face, while his brown eyes, made even sharper, gleam with an intensified purpose and intelligence. This highlights his matured youth alongside a serious, determined expression. Dressed in polished, high-end attire, his posture before the computer reveals a deep engagement with complex investment tasks, blending ambition with experienced insight. This scene illustrates Jin Do-jun's journey from a prodigious child to a successful adult, adept in the financial world, hinting at a future filled with significant achievements.\""
      ]
     },
     "execution_count": 50,
     "metadata": {},
     "output_type": "execute_result"
    }
   ],
   "source": [
    "from gpt import edit_image\n",
    "revised_prompt = edit_image(\n",
    "    f\"{image_path}/09-01.png\",\n",
    "    {'윤현우': 'A 32-year-old man with a loyal demeanor and a sense of duty, wearing a neatly tailored office look. He has black hair styled in a clean, professional manner, glasses framing his sharp gaze, and his facial features are well-defined with an apparent dedication to his responsibilities.', '진도준': 'A 10-year-old boy who is very bright and sharp for his age, wearing neat and luxurious clothing. He has short, neatly combed hair, penetrating eyes that reflect his intelligence, and a posture that displays confidence. His outfit hints at his wealthy background, with a fine material blazer over a crisp shirt.', '성인 진도준': 'A 22-year-old man, smart and astute, dressed in polished and upscale attire. He has styled, dark hair giving him a suave appearance, eyes that carry a purposeful gleam of intelligence, and a composed demeanor that exudes confidence. His clothing is of high quality, showcasing a well-fitted suit that complements his slim, athletic build, further accentuating his affluent background.', '진양철': 'A 71-year-old man with a quirky character and insightful views about the future, donning sophisticated suits. He has silver hair, neatly combed back, and deep-set eyes that gleam with wisdom and a hint of sternness. His face carries wrinkles that tell stories of experience, decision-making, and power. His attire is impeccably tailored, reflecting his status and attention to detail, complementing his stately posture and commanding presence.'},\n",
    "    \"Anime style, vertical illustration: A 22-year-old Jin Do-jun, depicted as smart and astute, is shown deeply engrossed in a computer screen featuring the Google homepage next to a rising stock price graph. His dark hair is stylishly arranged to frame his face, and his eyes, made notably sharper, shine with a purposeful and more intense gleam of intelligence, underscoring his matured youth and the serious, determined expression on his face. His attire, polished and high-end, and his posture at the computer reflect a profound engagement and understanding of intricate investment tasks, blending ambition with experienced insight. This scene captures Jin Do-jun's evolution from a prodigious child to a successful adult, adeptly navigating the financial realm, and foreshadows a future of significant achievements.\",\n",
    "    \"성인 진도준의 눈매가 조금 더 날렵하고 눈동자 색은 갈색이야.\") #수정된 프롬프트내용\n",
    "revised_prompt"
   ]
  },
  {
   "cell_type": "markdown",
   "metadata": {},
   "source": [
    "# 나레이션 분류"
   ]
  },
  {
   "cell_type": "code",
   "execution_count": 30,
   "metadata": {},
   "outputs": [
    {
     "data": {
      "text/plain": [
       "[['흙수저 출신 윤현우,', '대기업 순양그룹에 발을 들이다.'],\n",
       " ['재벌 3세들의 뒤치다꺼리를 하며,', '마침내 신뢰를 얻어가는 그의 삶.'],\n",
       " ['그러나, 비자금 조성의 누명을 쓰고 총알 앞에 선 순간,', '그의 인생이 끝나는 듯했다.'],\n",
       " ['죽음을 넘어 재벌집 막내아들,', '진도준으로 환생하다.'],\n",
       " ['버림받은 가문의 아들, 진도준.', '그러나 그의 눈에는 복수의 불꽃이 타오른다.'],\n",
       " ['순양그룹 창업주 진양철의 마음을 얻기 위한', '진도준의 첫 걸음.'],\n",
       " ['할아버지, 저의 꿈은 목장입니다.', '진도준의 거짓말이 시작되다.'],\n",
       " ['앞날을 내다보고 선택한 땅, 분당.', '진도준의 목장 운영이 시작된다.'],\n",
       " ['140억의 수익, 그리고 그 시작점이 된 목장.', '진도준의 첫번째 승리.'],\n",
       " ['10살의 나이에 구글에 투자하여', '억만장자가 되다.'],\n",
       " ['미라클 인베스트먼트, 정체를 숨긴 채', '운영하는 진도준의 투자 회사.'],\n",
       " ['기업을 먹어치우는 덫,', '순양그룹을 집어삼키려는 진도준의 치밀한 계획.'],\n",
       " ['과거 자신을 죽인 이를 찾아내는', '진도준.'],\n",
       " ['순양그룹을 향한 진도준의 마지막 복수,', '그의 집념이 만들어낸 결과.'],\n",
       " ['재벌집 막내아들에서 순양그룹의 실질적 주인으로,', '진도준의 장대한 복수극이 마침내 완성되다.'],\n",
       " ['더 자세한 내용은', \"'재벌집 막내아들' 에서!\"]]"
      ]
     },
     "execution_count": 30,
     "metadata": {},
     "output_type": "execute_result"
    }
   ],
   "source": [
    "subtitle, usage = get_subtitle(ret['narr'],user_inputs['novel']['제목'])\n",
    "subtitle"
   ]
  },
  {
   "cell_type": "markdown",
   "metadata": {},
   "source": [
    "# 오디오 생성"
   ]
  },
  {
   "cell_type": "code",
   "execution_count": 31,
   "metadata": {},
   "outputs": [
    {
     "name": "stdout",
     "output_type": "stream",
     "text": [
      "['ndaeseong', 'nyejin', 'nyejin', 'nyejin', 'nyejin', 'nyejin', 'nyejin', 'nyejin', 'nhajun', 'nyejin', 'nyejin', 'nyejin', 'nhajun', 'nyejin', 'nyejin', 'nyejin', 'nyejin', 'nyejin', 'nian', 'nyejin', 'nyejin', 'nian', 'nyejin', 'nyejin', 'nian', 'nian', 'nyejin', 'nyejin', 'nyejin', 'nyejin', 'nyejin', 'nyejin']\n"
     ]
    },
    {
     "name": "stderr",
     "output_type": "stream",
     "text": [
      "100%|██████████| 16/16 [00:16<00:00,  1.05s/it]\n"
     ]
    },
    {
     "data": {
      "text/plain": [
       "['E:/SKT/shorts/test2_JBZ/audio/00-00.mp3',\n",
       " 'E:/SKT/shorts/test2_JBZ/audio/00-01.mp3',\n",
       " 'E:/SKT/shorts/test2_JBZ/audio/01-00.mp3',\n",
       " 'E:/SKT/shorts/test2_JBZ/audio/01-01.mp3',\n",
       " 'E:/SKT/shorts/test2_JBZ/audio/02-00.mp3',\n",
       " 'E:/SKT/shorts/test2_JBZ/audio/02-01.mp3',\n",
       " 'E:/SKT/shorts/test2_JBZ/audio/03-00.mp3',\n",
       " 'E:/SKT/shorts/test2_JBZ/audio/03-01.mp3',\n",
       " 'E:/SKT/shorts/test2_JBZ/audio/04-00.mp3',\n",
       " 'E:/SKT/shorts/test2_JBZ/audio/04-01.mp3',\n",
       " 'E:/SKT/shorts/test2_JBZ/audio/05-00.mp3',\n",
       " 'E:/SKT/shorts/test2_JBZ/audio/05-01.mp3',\n",
       " 'E:/SKT/shorts/test2_JBZ/audio/06-00.mp3',\n",
       " 'E:/SKT/shorts/test2_JBZ/audio/06-01.mp3',\n",
       " 'E:/SKT/shorts/test2_JBZ/audio/07-00.mp3',\n",
       " 'E:/SKT/shorts/test2_JBZ/audio/07-01.mp3',\n",
       " 'E:/SKT/shorts/test2_JBZ/audio/08-00.mp3',\n",
       " 'E:/SKT/shorts/test2_JBZ/audio/08-01.mp3',\n",
       " 'E:/SKT/shorts/test2_JBZ/audio/09-00.mp3',\n",
       " 'E:/SKT/shorts/test2_JBZ/audio/09-01.mp3',\n",
       " 'E:/SKT/shorts/test2_JBZ/audio/10-00.mp3',\n",
       " 'E:/SKT/shorts/test2_JBZ/audio/10-01.mp3',\n",
       " 'E:/SKT/shorts/test2_JBZ/audio/11-00.mp3',\n",
       " 'E:/SKT/shorts/test2_JBZ/audio/11-01.mp3',\n",
       " 'E:/SKT/shorts/test2_JBZ/audio/12-00.mp3',\n",
       " 'E:/SKT/shorts/test2_JBZ/audio/12-01.mp3',\n",
       " 'E:/SKT/shorts/test2_JBZ/audio/13-00.mp3',\n",
       " 'E:/SKT/shorts/test2_JBZ/audio/13-01.mp3',\n",
       " 'E:/SKT/shorts/test2_JBZ/audio/14-00.mp3',\n",
       " 'E:/SKT/shorts/test2_JBZ/audio/14-01.mp3',\n",
       " 'E:/SKT/shorts/test2_JBZ/audio/15-00.mp3',\n",
       " 'E:/SKT/shorts/test2_JBZ/audio/15-01.mp3']"
      ]
     },
     "execution_count": 31,
     "metadata": {},
     "output_type": "execute_result"
    }
   ],
   "source": [
    "audio_path_list = create_voice(audio_path,subtitle,ret['char'])\n",
    "audio_path_list"
   ]
  },
  {
   "cell_type": "markdown",
   "metadata": {},
   "source": [
    "# 비디오 생성\n"
   ]
  },
  {
   "cell_type": "code",
   "execution_count": 29,
   "metadata": {},
   "outputs": [],
   "source": [
    "from shorts import create_video\n",
    "import glob"
   ]
  },
  {
   "cell_type": "code",
   "execution_count": 38,
   "metadata": {},
   "outputs": [],
   "source": [
    "subtitle = [['흙수저 출신 윤현우,', '대기업 순양그룹에 발을 들이다.'],\n",
    " ['재벌 3세들의 뒤치다꺼리를 하며,', '마침내 신뢰를 얻어가는 그의 삶.'],\n",
    " ['그러나, 비자금 조성의 누명을 쓰고 총알 앞에 선 순간,', '그의 인생이 끝나는 듯했다.'],\n",
    " ['죽음을 넘어 재벌집 막내아들,', '진도준으로 환생하다.'],\n",
    " ['버림받은 가문의 아들, 진도준.', '그러나 그의 눈에는 복수의 불꽃이 타오른다.'],\n",
    " ['순양그룹 창업주 진양철의 마음을 얻기 위한', '진도준의 첫 걸음.'],\n",
    " ['할아버지, 저의 꿈은 목장입니다.', '진도준의 거짓말이 시작되다.'],\n",
    " ['앞날을 내다보고 선택한 땅, 분당.', '진도준의 목장 운영이 시작된다.'],\n",
    " ['140억의 수익, 그리고 그 시작점이 된 목장.', '진도준의 첫번째 승리.'],\n",
    " ['10살의 나이에 구글에 투자하여', '억만장자가 되다.'],\n",
    " ['미라클 인베스트먼트, 정체를 숨긴 채', '운영하는 진도준의 투자 회사.'],\n",
    " ['기업을 먹어치우는 덫,', '순양그룹을 집어삼키려는 진도준의 치밀한 계획.'],\n",
    " ['과거 자신을 죽인 이를 찾아내는', '진도준.'],\n",
    " ['순양그룹을 향한 진도준의 마지막 복수,', '그의 집념이 만들어낸 결과.'],\n",
    " ['재벌집 막내아들에서 순양그룹의 실질적 주인으로,', '진도준의 장대한 복수극이 마침내 완성되다.'],\n",
    " ['더 자세한 내용은', \"'재벌집 막내아들' 에서!\"]]"
   ]
  },
  {
   "cell_type": "code",
   "execution_count": 34,
   "metadata": {},
   "outputs": [
    {
     "data": {
      "text/plain": [
       "['E:/SKT/shorts/test2_JBZ/image\\\\00-00.png',\n",
       " 'E:/SKT/shorts/test2_JBZ/image\\\\01-01.png',\n",
       " 'E:/SKT/shorts/test2_JBZ/image\\\\02-00.png',\n",
       " 'E:/SKT/shorts/test2_JBZ/image\\\\03-00.png',\n",
       " 'E:/SKT/shorts/test2_JBZ/image\\\\04-00.png',\n",
       " 'E:/SKT/shorts/test2_JBZ/image\\\\05-00.png',\n",
       " 'E:/SKT/shorts/test2_JBZ/image\\\\06-00.png',\n",
       " 'E:/SKT/shorts/test2_JBZ/image\\\\07-01.png',\n",
       " 'E:/SKT/shorts/test2_JBZ/image\\\\08-00.png',\n",
       " 'E:/SKT/shorts/test2_JBZ/image\\\\09-01.png',\n",
       " 'E:/SKT/shorts/test2_JBZ/image\\\\10-00.png',\n",
       " 'E:/SKT/shorts/test2_JBZ/image\\\\11-00.png',\n",
       " 'E:/SKT/shorts/test2_JBZ/image\\\\12-01.png',\n",
       " 'E:/SKT/shorts/test2_JBZ/image\\\\13-01.png',\n",
       " 'E:/SKT/shorts/test2_JBZ/image\\\\14-01.png']"
      ]
     },
     "execution_count": 34,
     "metadata": {},
     "output_type": "execute_result"
    }
   ],
   "source": [
    "image_path_list = glob.glob(f\"{image_path}/*\")\n",
    "image_path_list"
   ]
  },
  {
   "cell_type": "code",
   "execution_count": 35,
   "metadata": {},
   "outputs": [
    {
     "data": {
      "text/plain": [
       "['E:/SKT/shorts/test2_JBZ/audio\\\\00-00.mp3',\n",
       " 'E:/SKT/shorts/test2_JBZ/audio\\\\00-01.mp3',\n",
       " 'E:/SKT/shorts/test2_JBZ/audio\\\\01-00.mp3',\n",
       " 'E:/SKT/shorts/test2_JBZ/audio\\\\01-01.mp3',\n",
       " 'E:/SKT/shorts/test2_JBZ/audio\\\\02-00.mp3',\n",
       " 'E:/SKT/shorts/test2_JBZ/audio\\\\02-01.mp3',\n",
       " 'E:/SKT/shorts/test2_JBZ/audio\\\\03-00.mp3',\n",
       " 'E:/SKT/shorts/test2_JBZ/audio\\\\03-01.mp3',\n",
       " 'E:/SKT/shorts/test2_JBZ/audio\\\\04-00.mp3',\n",
       " 'E:/SKT/shorts/test2_JBZ/audio\\\\04-01.mp3',\n",
       " 'E:/SKT/shorts/test2_JBZ/audio\\\\05-00.mp3',\n",
       " 'E:/SKT/shorts/test2_JBZ/audio\\\\05-01.mp3',\n",
       " 'E:/SKT/shorts/test2_JBZ/audio\\\\06-00.mp3',\n",
       " 'E:/SKT/shorts/test2_JBZ/audio\\\\06-01.mp3',\n",
       " 'E:/SKT/shorts/test2_JBZ/audio\\\\07-00.mp3',\n",
       " 'E:/SKT/shorts/test2_JBZ/audio\\\\07-01.mp3',\n",
       " 'E:/SKT/shorts/test2_JBZ/audio\\\\08-00.mp3',\n",
       " 'E:/SKT/shorts/test2_JBZ/audio\\\\08-01.mp3',\n",
       " 'E:/SKT/shorts/test2_JBZ/audio\\\\09-00.mp3',\n",
       " 'E:/SKT/shorts/test2_JBZ/audio\\\\09-01.mp3',\n",
       " 'E:/SKT/shorts/test2_JBZ/audio\\\\10-00.mp3',\n",
       " 'E:/SKT/shorts/test2_JBZ/audio\\\\10-01.mp3',\n",
       " 'E:/SKT/shorts/test2_JBZ/audio\\\\11-00.mp3',\n",
       " 'E:/SKT/shorts/test2_JBZ/audio\\\\11-01.mp3',\n",
       " 'E:/SKT/shorts/test2_JBZ/audio\\\\12-00.mp3',\n",
       " 'E:/SKT/shorts/test2_JBZ/audio\\\\12-01.mp3',\n",
       " 'E:/SKT/shorts/test2_JBZ/audio\\\\13-00.mp3',\n",
       " 'E:/SKT/shorts/test2_JBZ/audio\\\\13-01.mp3',\n",
       " 'E:/SKT/shorts/test2_JBZ/audio\\\\14-00.mp3',\n",
       " 'E:/SKT/shorts/test2_JBZ/audio\\\\14-01.mp3',\n",
       " 'E:/SKT/shorts/test2_JBZ/audio\\\\15-00.mp3',\n",
       " 'E:/SKT/shorts/test2_JBZ/audio\\\\15-01.mp3']"
      ]
     },
     "execution_count": 35,
     "metadata": {},
     "output_type": "execute_result"
    }
   ],
   "source": [
    "audio_path_list = glob.glob(f\"{audio_path}/*\")\n",
    "audio_path_list"
   ]
  },
  {
   "cell_type": "code",
   "execution_count": 36,
   "metadata": {},
   "outputs": [],
   "source": [
    "ret ={'vfx':\n",
    "      ['페이드 인',\n",
    " '없음',\n",
    " '갈라짐 효과',\n",
    " '눈 깜빡임 효과',\n",
    " '줌 아웃',\n",
    " '줌 인',\n",
    " '페이드 아웃',\n",
    " '줌 인',\n",
    " '페이드 아웃',\n",
    " '줌 인',\n",
    " '없음',\n",
    " '갈라짐 효과',\n",
    " '눈 깜빡임 효과',\n",
    " '페이드 인',\n",
    " '페이드 아웃']\n",
    " }"
   ]
  },
  {
   "cell_type": "code",
   "execution_count": 39,
   "metadata": {},
   "outputs": [
    {
     "name": "stdout",
     "output_type": "stream",
     "text": [
      "이미지 수 : 16 , 나레이션 수 : 16  효과 수 : 16\n"
     ]
    },
    {
     "name": "stderr",
     "output_type": "stream",
     "text": [
      "100%|██████████| 15/15 [02:59<00:00, 11.98s/it]\n",
      "100%|██████████| 31/31 [00:00<00:00, 768.63it/s]\n"
     ]
    },
    {
     "name": "stdout",
     "output_type": "stream",
     "text": [
      "Moviepy - Building video E:/SKT/shorts/test2_JBZ/result.mp4.\n",
      "MoviePy - Writing audio in resultTEMP_MPY_wvf_snd.mp3\n"
     ]
    },
    {
     "name": "stderr",
     "output_type": "stream",
     "text": [
      "                                                                      \r"
     ]
    },
    {
     "name": "stdout",
     "output_type": "stream",
     "text": [
      "MoviePy - Done.\n",
      "Moviepy - Writing video E:/SKT/shorts/test2_JBZ/result.mp4\n",
      "\n"
     ]
    },
    {
     "name": "stderr",
     "output_type": "stream",
     "text": [
      "                                                                 \r"
     ]
    },
    {
     "name": "stdout",
     "output_type": "stream",
     "text": [
      "Moviepy - Done !\n",
      "Moviepy - video ready E:/SKT/shorts/test2_JBZ/result.mp4\n"
     ]
    }
   ],
   "source": [
    "create_video(image_path_list,audio_path_list,subtitle,ret['vfx'],f\"{root_path}/BGM.m4a\",f\"{root_path}/{novel_id}/result.mp4\",True,0.5)"
   ]
  },
  {
   "cell_type": "markdown",
   "metadata": {},
   "source": [
    "#준"
   ]
  },
  {
   "cell_type": "code",
   "execution_count": 19,
   "metadata": {},
   "outputs": [],
   "source": [
    "subtitle = subtitle = [['대한민국 최고 기업 순양의',  '뒤치다꺼리를 하며 머슴처럼 일한 윤현우'],\n",
    " ['비자금 조성 죄를 뒤집어쓰고', '생을 마감하는데'],\n",
    " [''],\n",
    " ['그 순간 고급 승용차를 타고있는', '10살의 아이로 눈을 떴다'],\n",
    " ['순양의 창업주 진양철 회장의', '막내아들의 막내아들'], \n",
    " ['진도준의 몸으로', '\"할아버지, 전 진짜가 좋아요.\"'],\n",
    " [''],\n",
    " ['\"여기가 좋아요. 한 오만평 정도?\"','그 땅은 바로 분당이었다'],\n",
    " ['순양을 집어삼키키 위한', '진도준의 계획이 시작된다'],\n",
    " ['\"나는 나를 죽인 대한민국 최고 재벌가의\"', '\"막내아들로 다시 태어났다.\"'],\n",
    " ['\"제가 좀 똑똑하죠? 나이답지 않게\"', '재벌집 막내아들'],\n",
    " ['더 자세한 내용은',\"'재벌집 막내아들' 에서!\"]]"
   ]
  },
  {
   "cell_type": "code",
   "execution_count": 20,
   "metadata": {},
   "outputs": [],
   "source": [
    "import random,glob"
   ]
  },
  {
   "cell_type": "code",
   "execution_count": 21,
   "metadata": {},
   "outputs": [],
   "source": [
    "import os\n",
    "\n",
    "novel_id = \"ver3\"\n",
    "root_path = \"E:/SKT/shorts\"\n",
    "\n",
    "image_path = f\"{root_path}/{novel_id}/image\" # 이미지 파일 저장경로\n",
    "audio_path = f\"{root_path}/{novel_id}/audio\" # 오디오 파일 저장경로\n",
    "character_path = f\"{root_path}/{novel_id}/character\" # 캐릭터 입력 이미지\n",
    "\n",
    "if os.path.exists(f\"{root_path}/{novel_id}\") == False:\n",
    "    os.makedirs(image_path,exist_ok=True)\n",
    "    os.makedirs(audio_path,exist_ok=True)\n",
    "    os.makedirs(character_path,exist_ok=True)\n"
   ]
  },
  {
   "cell_type": "code",
   "execution_count": 22,
   "metadata": {},
   "outputs": [
    {
     "data": {
      "text/plain": [
       "(11, 22, 12)"
      ]
     },
     "execution_count": 22,
     "metadata": {},
     "output_type": "execute_result"
    }
   ],
   "source": [
    "image_path_list = sorted(glob.glob(f\"{image_path}/*\"))\n",
    "audio_path_list = sorted(glob.glob(f\"{audio_path}/*\"))\n",
    "subtitle = subtitle\n",
    "len(image_path_list),len(audio_path_list),len(subtitle)\n"
   ]
  },
  {
   "cell_type": "code",
   "execution_count": 23,
   "metadata": {},
   "outputs": [
    {
     "data": {
      "text/plain": [
       "(['페이드 인',\n",
       "  '페이드 아웃',\n",
       "  '줌 인',\n",
       "  '눈 깜빡임 효과',\n",
       "  '페이드 인',\n",
       "  '눈 깜빡임 효과',\n",
       "  '갈라짐 효과',\n",
       "  '갈라짐 효과',\n",
       "  '줌 아웃',\n",
       "  '페이드 인',\n",
       "  '페이드 인'],\n",
       " 11)"
      ]
     },
     "execution_count": 23,
     "metadata": {},
     "output_type": "execute_result"
    }
   ],
   "source": [
    "effects = []\n",
    "vfx_name = [\n",
    "    \"없음\",\n",
    "    \"페이드 인\",\n",
    "    \"페이드 아웃\",\n",
    "    \"줌 인\",\n",
    "    \"줌 아웃\",\n",
    "    \"눈 깜빡임 효과\",\n",
    "    \"갈라짐 효과\",\n",
    "    \"배경 없이 나레이션만\"\n",
    "]\n",
    "for i in range(len(image_path_list)):\n",
    "    if i!=3:\n",
    "        effects.append(vfx_name[random.randint(0,len(vfx_name)-2)])\n",
    "    else :\n",
    "        effects.append(\"눈 깜빡임 효과\")\n",
    "effects,len(effects)"
   ]
  },
  {
   "cell_type": "code",
   "execution_count": 24,
   "metadata": {},
   "outputs": [],
   "source": [
    "effects = ['페이드 인',\n",
    "  '갈라짐 효과',\n",
    "  '없음',\n",
    "  '눈 깜빡임 효과',\n",
    "  '줌 인',\n",
    "  '페이드 아웃',\n",
    "  '없음',\n",
    "  '줌 인',\n",
    "  '줌 아웃',\n",
    "  '갈라짐 효과',\n",
    "  '줌 아웃']"
   ]
  },
  {
   "cell_type": "code",
   "execution_count": 25,
   "metadata": {},
   "outputs": [],
   "source": [
    "from shorts import create_video"
   ]
  },
  {
   "cell_type": "code",
   "execution_count": 26,
   "metadata": {},
   "outputs": [
    {
     "name": "stdout",
     "output_type": "stream",
     "text": [
      "(1792, 1024, 3)\n",
      "(1792, 1024, 3)\n",
      "(1792, 1024, 3)\n",
      "(1792, 1024, 3)\n",
      "(1792, 1024, 3)\n",
      "(1792, 1024, 3)\n",
      "(1792, 1024, 3)\n",
      "(1792, 1024, 3)\n",
      "(1792, 1024, 3)\n",
      "(1792, 1024, 3)\n",
      "(1792, 1024, 3)\n",
      "이미지 수 : 12 , 나레이션 수 : 12  효과 수 : 12\n"
     ]
    },
    {
     "name": "stderr",
     "output_type": "stream",
     "text": [
      "100%|██████████| 11/11 [01:33<00:00,  8.46s/it]\n",
      "100%|██████████| 23/23 [00:00<00:00, 749.04it/s]\n"
     ]
    },
    {
     "name": "stdout",
     "output_type": "stream",
     "text": [
      "Moviepy - Building video E:/SKT/shorts/ver3/result.mp4.\n",
      "MoviePy - Writing audio in resultTEMP_MPY_wvf_snd.mp3\n"
     ]
    },
    {
     "name": "stderr",
     "output_type": "stream",
     "text": [
      "                                                                    \r"
     ]
    },
    {
     "name": "stdout",
     "output_type": "stream",
     "text": [
      "MoviePy - Done.\n",
      "Moviepy - Writing video E:/SKT/shorts/ver3/result.mp4\n",
      "\n"
     ]
    },
    {
     "name": "stderr",
     "output_type": "stream",
     "text": [
      "                                                                 \r"
     ]
    },
    {
     "name": "stdout",
     "output_type": "stream",
     "text": [
      "Moviepy - Done !\n",
      "Moviepy - video ready E:/SKT/shorts/ver3/result.mp4\n"
     ]
    }
   ],
   "source": [
    "create_video(image_path_list,audio_path_list,subtitle,effects,f\"{root_path}/BGM.m4a\",f\"{root_path}/{novel_id}/result.mp4\",last_narr=True,bgm_volume=0.25)"
   ]
  },
  {
   "cell_type": "code",
   "execution_count": null,
   "metadata": {},
   "outputs": [],
   "source": []
  }
 ],
 "metadata": {
  "kernelspec": {
   "display_name": "gpt",
   "language": "python",
   "name": "python3"
  },
  "language_info": {
   "codemirror_mode": {
    "name": "ipython",
    "version": 3
   },
   "file_extension": ".py",
   "mimetype": "text/x-python",
   "name": "python",
   "nbconvert_exporter": "python",
   "pygments_lexer": "ipython3",
   "version": "3.7.9"
  }
 },
 "nbformat": 4,
 "nbformat_minor": 2
}
