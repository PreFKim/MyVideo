{
 "cells": [
  {
   "cell_type": "code",
   "execution_count": 1,
   "metadata": {},
   "outputs": [],
   "source": [
    "from gpt import forward_gpt, get_subtitle, create_image, edit_image\n",
    "from clova import create_voice"
   ]
  },
  {
   "cell_type": "code",
   "execution_count": 2,
   "metadata": {},
   "outputs": [],
   "source": [
    "import os\n",
    "\n",
    "novel_id = \"test3_JBZ\"\n",
    "root_path = \"E:/SKT/shorts\"\n",
    "\n",
    "image_path = f\"{root_path}/{novel_id}/image\" # 이미지 파일 저장경로\n",
    "audio_path = f\"{root_path}/{novel_id}/audio\" # 오디오 파일 저장경로\n",
    "character_path = f\"{root_path}/{novel_id}/character\" # 캐릭터 입력 이미지\n",
    "\n",
    "if os.path.exists(f\"{root_path}/{novel_id}\") == False:\n",
    "    os.makedirs(image_path,exist_ok=True)\n",
    "    os.makedirs(audio_path,exist_ok=True)\n",
    "    os.makedirs(character_path,exist_ok=True)\n"
   ]
  },
  {
   "cell_type": "code",
   "execution_count": 3,
   "metadata": {},
   "outputs": [],
   "source": [
    "\n",
    "\n",
    "user_inputs = {\n",
    "    \"novel\" :{\n",
    "        \"제목\" : \"재벌집 막내아들\",\n",
    "        #\"장르\" : \"로맨스 판타지\",\n",
    "        \"강조요소\": \"회귀 전 윤현우의 행보와 억울함을 자세히 표현했으면 좋겠어.\\n윤현우가 진도준으로 회귀해.\\n장면이 지나감에 따라 달라지는 진도준의 나이를 표현해.\\n미래를 아는 진도준이 선택한 목장은 분당이야.\\n미래를 아는 진도준은 구글에 투자\",\n",
    "        \"줄거리\" : \"흙수저 출신 윤현우는 운이 좋게 대기업 '순양그룹'에 입사하여 재벌 3세들의 뒤치다꺼리를 하며 머슴처럼 일했다. 그렇게 회사 안에서 그의 입지는 커지고 회사의 신뢰를 받게 된다.\\n\\n그러던 어느날, 윤현우는 로열패밀리의 비자금 조성과 관련해 죄를 뒤집어쓰고 총에 맞아 생을 마감한다. 죽었다고 생각한 그 순간, 윤현우는 순양그룹 회장의 집을 가고있는 차안에서 순양 그룹의 막내 손자 진도준으로 다시 회귀한다.\\n\\n순양그룹의 창업주는 진양철 회장이고,막내 아들 진윤기는 가장 똑똑했으나 기업을 물려받기를 포기하고 영화감독이 되기를 희망했다가 영화배우 이해인과 결혼한 후 집안으로부터 버림받았다. 그래서 진양철 회장은 진윤기 가족을 마음에 들어하지 않는다. 이 진윤기의 둘째 아들 진도준으로 다시 태어났다. 상속과는 거리가 먼 재벌집 막내아들 진도준이 된 윤현우는 순양그룹을 통째로 집어삼키기 위한 복수극을 준비한다.\\n\\n진도준은 진양철에게 자신의 야망이 그룹경영에 있음을 차근차근 보여주기 시작한다. 할아버지의 모든 것을 갖고 싶다는 진심이 담긴 말을 들은 진양철은 1년간 시험에서 전과목 우수를 받는 조건으로 진짜 말을 사주기로 약속한다.\\n\\n1년간 전과목 우수를 받은 진도준의 약속을 지키기 위해 진양철은 지도를 펴고 어느 지역에 목장을 만들어줄지를 물었다. 진도준은 정부가 개발할 땅이 어디인지를 알고 있었기 때문에 분당 땅 8만평을 목장으로 선택한다.\\n\\n이 땅이 개발되어 140억의 돈을 벌었고, 10살의 진도준은 이 돈을 구글 등에 투자하여 몇 조가 되는 돈을 벌게 된다.\\n\\n성인이 된 진도준은 이렇게 투자해서 번 돈으로 '미라클 인베스트먼트'라는 투자회사를 세우고 정체를 숨긴 채 회사를 운영한다. 진도준은 갖고 싶은 기업이 부실기업이 되도록 덫을 놓고 그 기업을 인수하면서 순양그룹을 먹어버릴 힘을 키운다.\\n\\n진도준은 과연 자신을 죽인 범인을 찾고 순양그룹을 차지할 수 있을것인가?\"\n",
    "    },\n",
    "    \"characters\" : [\n",
    "        {\n",
    "            \"이름\" :  \"윤현우\",\n",
    "            \"나이\" :  \"32\",\n",
    "            \"성격\" : \"오너 일가에 대한 충성심을 지킴, 의리 있음\",\n",
    "            \"의상\" : \"단정한 오피스룩\",\n",
    "            #\"img\" : f\"{character_path}/윤현우.webp\"\n",
    "        },\n",
    "        {\n",
    "            \"이름\" : \"진도준\",\n",
    "            \"나이\" : \"10\",\n",
    "            \"성격\" : \"똘똘함\",\n",
    "            \"의상\" : \"단정하고 고급스러운 옷\",\n",
    "        },\n",
    "        {\n",
    "            \"이름\" : \"성인 진도준\",\n",
    "            \"나이\" : \"22\",\n",
    "            \"성격\" : \"똘똘함\",\n",
    "            \"의상\" : \"단정하고 고급스러운 옷\",\n",
    "        },\n",
    "        {\n",
    "            \"이름\" : \"진양철\",\n",
    "            \"나이\" : \"71\",\n",
    "            \"성격\" : \"괴팍함, 미래에 대한 통찰력 있음\",\n",
    "            \"의상\" : \"고급스러운 정장\",\n",
    "        }\n",
    "    ],\n",
    "    \"style\" : \"anime style\"\n",
    "}"
   ]
  },
  {
   "cell_type": "code",
   "execution_count": 6,
   "metadata": {},
   "outputs": [],
   "source": [
    "\n",
    "\n",
    "user_inputs = {\n",
    "    \"novel\" :{\n",
    "        \"제목\" : \"사내맞선\",\n",
    "        \"장르\" : \"로맨스 판타지\",\n",
    "        \"강조요소\" : \"사랑스러운 신하리\\n강태무를 속이는 신하리\",\n",
    "        \"줄거리\" : \"성운 기업에 재직 중인 신하리는 7년 내내 친구 민우를 짝사랑했다. 민우가 자신에게 프로포즈하리라는 착각을 하고 있었으나 알고 보니 장혜지라는 여자 친구가 있었다. 심지어 그날 회사에서 무단으로 빠져나가 민우를 만난 거라 욕이란 욕은 다 먹었다. 심지어 부모님이 퇴직 후 차리신 치킨집이 조류 독감으로 인해 망할 위기에 처해 회사대출금까지 받아 벼랑 끝까지 몰렸다. 그런 그녀의 절친인 부잣집 딸내미 진영서가 하리에게 제안하는데, 그 제안은 무려 자신 대신 소개팅에 나가서 파투를 내라는 것! 그룹 회장인 부친의 강요로 인해 수십차례의 소개팅이 지겨워진 영서는 하리가 섭섭지 않은 돈을 챙겨주고 거래를 한다. 만나서 잘되는 것이 아닌 거하게 차이는 것이 목표. 하리는 최대한 자극적 컨셉으로 남자를 잡아먹는 팜므파탈로 변신하고 알아보지 못하게 분홍색 가발까지 쓴다. 이에 반해 남주인공 강태무는 세상에서 일을 가장 사랑한다. 그러나 회장인 할아버지의 끝없는 결혼 타령 때문에 일에 집중할 수 없었다. 이번에 누가 나오든 간에 그 사람하고 꼭 결혼하고 말겠다는 굳은 결심을 하고 소개팅 장소로 향합니다. 차여야만 하는 하리와 결혼해야만 하는 태무. 창과 방패의 싸움이 시작되었다. 하리는 차이기 위해 아무 말이나 내뱉다가 돌연 태무가 자신 회사의 사장임을 깨달았다. 그리고 그가 거짓말과 사내 연애를 가장 혐오하는 꽉 막힌 보수주의자임을 떠올리다. 하지만 한번 마음먹으면 꼭 하고 마는 태무는 하리에게 결혼하자고 말하고 실제 소개팅 상대인 진영서의 집안은 축제 분위기가 되었다 이를 순순하게 밝힐 수 없는 영서는 하리에게 더 큰 돈을 제시하고 결국 하리는 영서인척 다시 한번 태무를 만나 헤어질 구실을 만드는데...\"\n",
    "    },\n",
    "    \"characters\" : [\n",
    "        {\n",
    "            \"이름\" :  \"신하리\",\n",
    "            \"나이\" :  \"29\",\n",
    "            \"외형\" : \"사랑스러운 긴,머리\",\n",
    "            \"의상\" : \"단정한 오피스 룩\",\n",
    "        },\n",
    "        {\n",
    "            \"이름\" :  \"강태무\",\n",
    "            \"나이\" :  \"31\",\n",
    "            \"외형\" : \"잘생김\",\n",
    "            \"의상\" : \"단정하고 고급스러운 정장\",\n",
    "        },\n",
    "        {\n",
    "            \"이름\" :  \"진영서\",\n",
    "            \"나이\" :  \"29\",\n",
    "            \"외형\" : \"단발 머리\",\n",
    "            \"의상\" : \"명품 옷\",\n",
    "        },\n",
    "        {\n",
    "            \"이름\" :  \"민우\",\n",
    "            \"나이\" :  \"29\",\n",
    "            \"외형\" : \"훈훈한 외모\",\n",
    "            \"의상\" : \"깔끔한 옷\",\n",
    "        },\n",
    "    ],\n",
    "    \"style\" : \"anime style\"\n",
    "}"
   ]
  },
  {
   "cell_type": "code",
   "execution_count": 7,
   "metadata": {},
   "outputs": [],
   "source": [
    "\n",
    "\n",
    "user_inputs = {\n",
    "    \"novel\" :{\n",
    "        \"제목\" : \"김비서가 왜그럴까?\",\n",
    "        \"장르\" : \"로맨스 판타지\",\n",
    "        \"강조요소\": \"김미소와 이영준의 감정 변화를 두드러지게 해줘.\",\n",
    "        \"줄거리\" : \"잘생긴 외모에 훌륭한 두뇌,\\n그리고 매력남의 필수조건인 싸가지까지 두루 갖춘,\\n스스로가 저 하늘 아래 가장 높은 존재인 남자,\\n유일그룹 부회장, 나르시시스트 이. 영. 준.\\n\\n9년 동안 이영준의 개인, 수행, 의전비서,\\n때로는 운전기사, 때로는 파티 파트너까지 소화했던,\\n능력 만점 외모 만점,\\n부회장의 미인 비서, 방글방글 김. 미. 소.\\n\\n하늘 아래 거리낄 것 하나 없던 이영준에게\\n어느 날 갑자기 던져진 고민거리 하나!\\n김 비서가 왜 그러지?\\n\\n그들 사이의 비밀 하나 - 과거의 기억 조각 맞추기.\\n감추고만 싶은 남자와 찾고만 싶은 여자 사이의 한 판 승부!\\n김 비서가 왜 그럴까!\"\n",
    "    },\n",
    "    \"characters\" : [\n",
    "        {\n",
    "            \"이름\" :  \"이영준\",\n",
    "            \"나이\" :  \"32\",\n",
    "            \"성격\" : \"나르시시스트, 자신감이 넘침\",\n",
    "            #\"img\" : f\"{character_path}/이영준.png\"\n",
    "        },\n",
    "        {\n",
    "            \"이름\" : \"김미소\",\n",
    "            \"나이\" : \"27\",\n",
    "            \"성격\" : \"밝음,착함,다재다능함\",\n",
    "            #\"img\" : f\"{character_path}/김미소.png\"\n",
    "        }\n",
    "    ],\n",
    "    \"style\" : \"anime style\"\n",
    "}"
   ]
  },
  {
   "cell_type": "code",
   "execution_count": 4,
   "metadata": {},
   "outputs": [
    {
     "name": "stdout",
     "output_type": "stream",
     "text": [
      "재벌집 막내아들\n",
      "작업1\n",
      "작업2\n",
      "작업3\n",
      "작업4\n",
      "작업5\n",
      "작업6\n",
      "{'narr': ['재벌집 막내아들로 회귀한 윤현우, 새로운 사명을 품다.', '억울한 죽음을 뒤로하고, 진도준으로 다시 눈 뜨다.', '과거의 기억과 미래의 비밀이 교차하는 순간.', '드러나기 시작한 진도준의 비밀스러운 야망.', '순양그룹을 집어삼킬 복수의 서막이 열린다.', '순양그룹의 창업주도 모르는, 한 소년의 대담한 계획.', '미래를 아는 진도준, 분당 땅을 목장으로 선택하다.', '한 약속이 미래의 거대한 부를 예언한다.', '목장을 통해 드러나는 진도준의 예리한 통찰력.', '어린 나이에도 불구하고, 세계를 변화시킬 투자를 선택하다.', '구글에 투자하여, 어린 재벌집 막내아들이 되다.', '10살의 천재 투자자, 진도준의 놀라운 행보.', '미라클 인베스트먼트, 순양그룹을 무너뜨릴 덫을 치다.', '진도준의 미래, 복수를 넘어 순양그룹의 운명까지 바꿔놓다.', '복수의 끝은 과연 어디일까? 진도준의 마지막 선택이 궁금하다.'], 'scene': ['Should be illustration of anime style, vertical image, no wide image, 10 years old boy named Jin Do-Jun, clever and sharp, wearing neat and luxurious clothes, with short black hair and deep brown eyes, slim build, waking up in a moving car, looking confused yet determined, cinematic lighting', 'Should be illustration of anime style, vertical image, no wide image, A bullet time effect showing a 32 years old man named Yun Hyun-Woo, loyal and honorable, wearing neat office attire, with short dark hair and brown eyes, medium build, getting shot, transitioning into a 10 years old boy named Jin Do-Jun, clever and sharp, dressed in neat and luxurious clothes, with short black hair and deep brown eyes, slim build, dramatic contrast', 'Should be illustration of anime style, vertical image, no wide image, 10 years old boy named Jin Do-Jun, clever and sharp, dressed in neat and luxurious clothes, with short black hair and deep brown eyes, slim build, observing the first view of a grand mansion belonging to Sunyang Group through his perspective, early morning light', 'Should be illustration of anime style, vertical image, no wide image, 22 years old man named Jin Do-Jun, intelligent and shrewd, wearing elegant and sophisticated attire, with short black hair styled neatly, dark brown eyes, athletic build, planning in a dark room with a single light source, maps and documents spread out, ambitious gaze', 'Should be illustration of anime style, vertical image, no wide image, 22 years old man named Jin Do-Jun, intelligent and shrewd, wearing elegant and sophisticated attire, with short black hair styled neatly, dark brown eyes, athletic build, in a boardroom scene making a point, surrounded by surprised and intrigued Sunyang Group executives', 'Should be illustration of anime style, vertical image, no wide image, 22 years old man named Jin Do-Jun, intelligent and shrewd, wearing elegant and sophisticated attire, with short black hair styled neatly, dark brown eyes, athletic build, in a close-up confidently proposing a new challenge to his grandfather, 71 years old man named Jin Yang-Cheol, grumpy with insightful foresight, dressed in a luxurious suit, with silver hair combed back, deep-set eyes with a piercing gaze, lean build, under soft lighting', 'Should be illustration of anime style, vertical image, no wide image, 71 years old man named Jin Yang-Cheol, grumpy with insightful foresight, dressed in a luxurious suit, with silver hair combed back, deep-set eyes with a piercing gaze, lean build, and 10 years old boy named Jin Do-Jun, clever and sharp, dressed in neat and luxurious clothes, with short black hair and deep brown eyes, slim build, standing over a map, fingers pointing at Bundang area, decision-making moment', 'Should be illustration of anime style, vertical image, no wide image, 10 years old boy named Jin Do-Jun, clever and sharp, dressed in neat and luxurious clothes, with short black hair and deep brown eyes, slim build, standing alone on an empty field in Bundang, imagining a prosperous future, sunset background', 'Should be illustration of anime style, vertical image, no wide image, 10 years old boy named Jin Do-Jun, clever and sharp, dressed in neat and luxurious clothes, with short black hair and deep brown eyes, slim build, and 71 years old man named Jin Yang-Cheol, grumpy with insightful foresight, dressed in a luxurious suit, with silver hair combed back, deep-set eyes with a piercing gaze, lean build, in a wide shot examining a barren land in Bundang, indicating the future site of a ranch, sunlight casting long shadows', 'Should be illustration of anime style, vertical image, no wide image, 10 years old boy named Jin Do-Jun, clever and sharp, dressed in neat and luxurious clothes, with short black hair and deep brown eyes, slim build, sitting in front of a computer, purchasing Google stocks, focus and determination in his eyes', \"Should be illustration of anime style, vertical image, no wide image, 22 years old man named Jin Do-Jun, intelligent and shrewd, wearing elegant and sophisticated attire, with short black hair styled neatly, dark brown eyes, athletic build, analyzing Google's potential on a computer screen, graphs and data visible, showing intense concentration\", \"Should be illustration of anime style, vertical image, no wide image, 22 years old man named Jin Do-Jun, intelligent and shrewd, wearing elegant and sophisticated attire, with short black hair styled neatly, dark brown eyes, athletic build, standing triumphantly in front of a skyscraper labeled 'Miracle Investment' on a bright sunny day\", \"Should be illustration of anime style, vertical image, no wide image, 22 years old man named Jin Do-Jun, intelligent and shrewd, wearing elegant and sophisticated attire, with short black hair styled neatly, dark brown eyes, athletic build, monitoring Sunyang Group's stock performance on multiple screens, plotting in a dimly lit room\", 'Should be illustration of anime style, vertical image, no wide image, 22 years old man named Jin Do-Jun, intelligent and shrewd, wearing elegant and sophisticated attire, with short black hair styled neatly, dark brown eyes, athletic build, smirking as he witnesses the downfall of Sunyang Group, a chessboard with fallen pieces in the foreground', 'Should be illustration of anime style, vertical image, no wide image, 22 years old man named Jin Do-Jun, intelligent and shrewd, wearing elegant and sophisticated attire, with short black hair styled neatly, dark brown eyes, athletic build, stands resolute in front of the Sunyang Group headquarters, ready to enact his final plan, with dramatic clouds overhead'], 'char': {'윤현우': '32 years old man named Yun Hyun-Woo, loyal and honorable, wearing neat office attire, with short dark hair and brown eyes, medium build', '진도준': '10 years old boy named Jin Do-Jun, clever and sharp, dressed in neat and luxurious clothes, with short black hair and deep brown eyes, slim build', '성인 진도준': '22 years old man named Jin Do-Jun, intelligent and shrewd, wearing elegant and sophisticated attire, with short black hair styled neatly, dark brown eyes, athletic build', '진양철': '71 years old man named Jin Yang-Cheol, grumpy with insightful foresight, dressed in a luxurious suit, with silver hair combed back, deep-set eyes with a piercing gaze, lean build'}, 'vfx': ['페이드 인', '눈 깜빡임 효과', '배경 없이 나레이션만', '떨림 효과', '줌 아웃', '줌 인', '줌 아웃', '줌 인', '페이드 아웃', '떨림 효과', '갈라짐 효과', '페이드 인', '줌 인', '갈라짐 효과', '떨림 효과'], 'usage': {'completion_tokens': 3584, 'prompt_tokens': 152539, 'total_tokens': 156123}}\n"
     ]
    }
   ],
   "source": [
    "print(user_inputs['novel']['제목'])\n",
    "ret = forward_gpt(user_inputs=user_inputs)\n",
    "print(ret)\n",
    "#ret['narr'] = 장면별 나레이션 정보 (list형식 len = 15)\n",
    "#ret['scene'] = 장면 프롬프트 (list형식 len = 15)\n",
    "#ret['char'] = 캐릭터 프롬프트 (dict)\n",
    "#ret['vfx'] = 영상 효과 (list형식 len = 15)\n",
    "#ret['usage'] = 비용 "
   ]
  },
  {
   "cell_type": "code",
   "execution_count": 6,
   "metadata": {},
   "outputs": [
    {
     "data": {
      "text/plain": [
       "{'completion_tokens': 3584, 'prompt_tokens': 152539, 'total_tokens': 156123}"
      ]
     },
     "execution_count": 6,
     "metadata": {},
     "output_type": "execute_result"
    }
   ],
   "source": [
    "ret['usage']"
   ]
  },
  {
   "cell_type": "code",
   "execution_count": 7,
   "metadata": {},
   "outputs": [
    {
     "data": {
      "text/plain": [
       "1.63291"
      ]
     },
     "execution_count": 7,
     "metadata": {},
     "output_type": "execute_result"
    }
   ],
   "source": [
    "(ret['usage']['prompt_tokens']*0.01+ret['usage']['completion_tokens']*0.03)/1000"
   ]
  },
  {
   "cell_type": "code",
   "execution_count": 8,
   "metadata": {},
   "outputs": [
    {
     "data": {
      "text/plain": [
       "{'윤현우': '32 years old man named Yun Hyun-Woo, loyal and honorable, wearing neat office attire, with short dark hair and brown eyes, medium build',\n",
       " '진도준': '10 years old boy named Jin Do-Jun, clever and sharp, dressed in neat and luxurious clothes, with short black hair and deep brown eyes, slim build',\n",
       " '성인 진도준': '22 years old man named Jin Do-Jun, intelligent and shrewd, wearing elegant and sophisticated attire, with short black hair styled neatly, dark brown eyes, athletic build',\n",
       " '진양철': '71 years old man named Jin Yang-Cheol, grumpy with insightful foresight, dressed in a luxurious suit, with silver hair combed back, deep-set eyes with a piercing gaze, lean build'}"
      ]
     },
     "execution_count": 8,
     "metadata": {},
     "output_type": "execute_result"
    }
   ],
   "source": [
    "ret['char']"
   ]
  },
  {
   "cell_type": "code",
   "execution_count": null,
   "metadata": {},
   "outputs": [],
   "source": [
    "ret['vfx'],len(ret['vfx'])"
   ]
  },
  {
   "cell_type": "markdown",
   "metadata": {},
   "source": [
    "# 이미지 생성"
   ]
  },
  {
   "cell_type": "code",
   "execution_count": 9,
   "metadata": {},
   "outputs": [
    {
     "name": "stdout",
     "output_type": "stream",
     "text": [
      "15 15\n",
      "0 재벌집 막내아들로 회귀한 윤현우, 새로운 사명을 품다.\n",
      "1 억울한 죽음을 뒤로하고, 진도준으로 다시 눈 뜨다.\n",
      "2 과거의 기억과 미래의 비밀이 교차하는 순간.\n",
      "3 드러나기 시작한 진도준의 비밀스러운 야망.\n",
      "4 순양그룹을 집어삼킬 복수의 서막이 열린다.\n",
      "5 순양그룹의 창업주도 모르는, 한 소년의 대담한 계획.\n",
      "6 미래를 아는 진도준, 분당 땅을 목장으로 선택하다.\n",
      "7 한 약속이 미래의 거대한 부를 예언한다.\n",
      "8 목장을 통해 드러나는 진도준의 예리한 통찰력.\n",
      "9 어린 나이에도 불구하고, 세계를 변화시킬 투자를 선택하다.\n",
      "10 구글에 투자하여, 어린 재벌집 막내아들이 되다.\n",
      "11 10살의 천재 투자자, 진도준의 놀라운 행보.\n",
      "12 미라클 인베스트먼트, 순양그룹을 무너뜨릴 덫을 치다.\n",
      "13 진도준의 미래, 복수를 넘어 순양그룹의 운명까지 바꿔놓다.\n",
      "14 복수의 끝은 과연 어디일까? 진도준의 마지막 선택이 궁금하다.\n"
     ]
    }
   ],
   "source": [
    "print(len(ret['narr']),len(ret['scene']))\n",
    "for i,n in enumerate(ret['narr']):\n",
    "    print(i,n)"
   ]
  },
  {
   "cell_type": "code",
   "execution_count": 10,
   "metadata": {},
   "outputs": [
    {
     "name": "stdout",
     "output_type": "stream",
     "text": [
      "0 Should be illustration of anime style, vertical image, no wide image, 10 years old boy named Jin Do-Jun, clever and sharp, wearing neat and luxurious clothes, with short black hair and deep brown eyes, slim build, waking up in a moving car, looking confused yet determined, cinematic lighting\n",
      "1 Should be illustration of anime style, vertical image, no wide image, A bullet time effect showing a 32 years old man named Yun Hyun-Woo, loyal and honorable, wearing neat office attire, with short dark hair and brown eyes, medium build, getting shot, transitioning into a 10 years old boy named Jin Do-Jun, clever and sharp, dressed in neat and luxurious clothes, with short black hair and deep brown eyes, slim build, dramatic contrast\n",
      "2 Should be illustration of anime style, vertical image, no wide image, 10 years old boy named Jin Do-Jun, clever and sharp, dressed in neat and luxurious clothes, with short black hair and deep brown eyes, slim build, observing the first view of a grand mansion belonging to Sunyang Group through his perspective, early morning light\n",
      "3 Should be illustration of anime style, vertical image, no wide image, 22 years old man named Jin Do-Jun, intelligent and shrewd, wearing elegant and sophisticated attire, with short black hair styled neatly, dark brown eyes, athletic build, planning in a dark room with a single light source, maps and documents spread out, ambitious gaze\n",
      "4 Should be illustration of anime style, vertical image, no wide image, 22 years old man named Jin Do-Jun, intelligent and shrewd, wearing elegant and sophisticated attire, with short black hair styled neatly, dark brown eyes, athletic build, in a boardroom scene making a point, surrounded by surprised and intrigued Sunyang Group executives\n",
      "5 Should be illustration of anime style, vertical image, no wide image, 22 years old man named Jin Do-Jun, intelligent and shrewd, wearing elegant and sophisticated attire, with short black hair styled neatly, dark brown eyes, athletic build, in a close-up confidently proposing a new challenge to his grandfather, 71 years old man named Jin Yang-Cheol, grumpy with insightful foresight, dressed in a luxurious suit, with silver hair combed back, deep-set eyes with a piercing gaze, lean build, under soft lighting\n",
      "6 Should be illustration of anime style, vertical image, no wide image, 71 years old man named Jin Yang-Cheol, grumpy with insightful foresight, dressed in a luxurious suit, with silver hair combed back, deep-set eyes with a piercing gaze, lean build, and 10 years old boy named Jin Do-Jun, clever and sharp, dressed in neat and luxurious clothes, with short black hair and deep brown eyes, slim build, standing over a map, fingers pointing at Bundang area, decision-making moment\n",
      "7 Should be illustration of anime style, vertical image, no wide image, 10 years old boy named Jin Do-Jun, clever and sharp, dressed in neat and luxurious clothes, with short black hair and deep brown eyes, slim build, standing alone on an empty field in Bundang, imagining a prosperous future, sunset background\n",
      "8 Should be illustration of anime style, vertical image, no wide image, 10 years old boy named Jin Do-Jun, clever and sharp, dressed in neat and luxurious clothes, with short black hair and deep brown eyes, slim build, and 71 years old man named Jin Yang-Cheol, grumpy with insightful foresight, dressed in a luxurious suit, with silver hair combed back, deep-set eyes with a piercing gaze, lean build, in a wide shot examining a barren land in Bundang, indicating the future site of a ranch, sunlight casting long shadows\n",
      "9 Should be illustration of anime style, vertical image, no wide image, 10 years old boy named Jin Do-Jun, clever and sharp, dressed in neat and luxurious clothes, with short black hair and deep brown eyes, slim build, sitting in front of a computer, purchasing Google stocks, focus and determination in his eyes\n",
      "10 Should be illustration of anime style, vertical image, no wide image, 22 years old man named Jin Do-Jun, intelligent and shrewd, wearing elegant and sophisticated attire, with short black hair styled neatly, dark brown eyes, athletic build, analyzing Google's potential on a computer screen, graphs and data visible, showing intense concentration\n",
      "11 Should be illustration of anime style, vertical image, no wide image, 22 years old man named Jin Do-Jun, intelligent and shrewd, wearing elegant and sophisticated attire, with short black hair styled neatly, dark brown eyes, athletic build, standing triumphantly in front of a skyscraper labeled 'Miracle Investment' on a bright sunny day\n",
      "12 Should be illustration of anime style, vertical image, no wide image, 22 years old man named Jin Do-Jun, intelligent and shrewd, wearing elegant and sophisticated attire, with short black hair styled neatly, dark brown eyes, athletic build, monitoring Sunyang Group's stock performance on multiple screens, plotting in a dimly lit room\n",
      "13 Should be illustration of anime style, vertical image, no wide image, 22 years old man named Jin Do-Jun, intelligent and shrewd, wearing elegant and sophisticated attire, with short black hair styled neatly, dark brown eyes, athletic build, smirking as he witnesses the downfall of Sunyang Group, a chessboard with fallen pieces in the foreground\n",
      "14 Should be illustration of anime style, vertical image, no wide image, 22 years old man named Jin Do-Jun, intelligent and shrewd, wearing elegant and sophisticated attire, with short black hair styled neatly, dark brown eyes, athletic build, stands resolute in front of the Sunyang Group headquarters, ready to enact his final plan, with dramatic clouds overhead\n"
     ]
    }
   ],
   "source": [
    "for i,n in enumerate(ret['scene']):\n",
    "    print(i,n)"
   ]
  },
  {
   "cell_type": "code",
   "execution_count": 11,
   "metadata": {},
   "outputs": [
    {
     "name": "stdout",
     "output_type": "stream",
     "text": [
      "0\n"
     ]
    },
    {
     "name": "stdout",
     "output_type": "stream",
     "text": [
      "Badrequest(인덱스, 회수):0, 2\n",
      "0\n",
      "Badrequest(인덱스, 회수):0, 3\n",
      "0\n",
      "Badrequest(인덱스, 회수):0, 4\n",
      "0\n",
      "Badrequest(인덱스, 회수):0, 5\n",
      "0\n",
      "Badrequest(인덱스, 회수):0, 6\n",
      "0\n",
      "Badrequest(인덱스, 회수):0, 7\n",
      "0\n",
      "Badrequest(인덱스, 회수):0, 8\n",
      "0\n",
      "1\n"
     ]
    }
   ],
   "source": [
    "image_path_list = create_image(image_path,ret['scene'][:2],n=1)"
   ]
  },
  {
   "cell_type": "markdown",
   "metadata": {},
   "source": [
    "# 이미지 편집\n"
   ]
  },
  {
   "cell_type": "code",
   "execution_count": 46,
   "metadata": {},
   "outputs": [
    {
     "data": {
      "text/plain": [
       "'Should be illustration of anime style, vertical image, no wide image, A young Jin Do-jun, captured at 10 years old, is focused intently on a computer screen, where the Google homepage is prominent alongside a rising stock price graph. His bright, penetrating eyes and short, neatly kept hair emphasize his youthful intelligence and the serious, determined expression on his face. He is dressed in refined, luxurious clothes suitable for a child of wealth, yet his posture and engagement with the task show a depth of understanding far beyond his years. This moment encapsulates the melding of youth and ambition, as Jin Do-jun navigates the complexities of investment with an innate skill, predicting a future of financial success.'"
      ]
     },
     "execution_count": 46,
     "metadata": {},
     "output_type": "execute_result"
    }
   ],
   "source": [
    "ret['scene'][9]"
   ]
  },
  {
   "cell_type": "code",
   "execution_count": 12,
   "metadata": {},
   "outputs": [
    {
     "name": "stdout",
     "output_type": "stream",
     "text": [
      "인물 프롬프트:\n",
      "- 윤현우 : A 32-year-old man with a loyal demeanor and a sense of duty, wearing a neatly tailored office look. He has black hair styled in a clean, professional manner, glasses framing his sharp gaze, and his facial features are well-defined with an apparent dedication to his responsibilities.\n",
      "- 진도준 : A 10-year-old boy who is very bright and sharp for his age, wearing neat and luxurious clothing. He has short, neatly combed hair, penetrating eyes that reflect his intelligence, and a posture that displays confidence. His outfit hints at his wealthy background, with a fine material blazer over a crisp shirt.\n",
      "- 성인 진도준 : A 22-year-old man, smart and astute, dressed in polished and upscale attire. He has styled, dark hair giving him a suave appearance, eyes that carry a purposeful gleam of intelligence, and a composed demeanor that exudes confidence. His clothing is of high quality, showcasing a well-fitted suit that complements his slim, athletic build, further accentuating his affluent background.\n",
      "- 진양철 : A 71-year-old man with a quirky character and insightful views about the future, donning sophisticated suits. He has silver hair, neatly combed back, and deep-set eyes that gleam with wisdom and a hint of sternness. His face carries wrinkles that tell stories of experience, decision-making, and power. His attire is impeccably tailored, reflecting his status and attention to detail, complementing his stately posture and commanding presence.\n",
      "\n"
     ]
    },
    {
     "data": {
      "text/plain": [
       "\"Anime style, vertical illustration: A 22-year-old Jin Do-jun, depicted as smart and astute, is shown deeply engrossed in a computer screen featuring the Google homepage next to a rising stock price graph. His dark hair is stylishly arranged to frame his face, and his eyes, made notably sharper with brown irises, shine with a purposeful and more intense gleam of intelligence, underscoring his matured youth and the serious, determined expression on his face. His attire, polished and high-end, and his posture at the computer reflect a profound engagement and understanding of intricate investment tasks, blending ambition with experienced insight. This scene captures Jin Do-jun's evolution from a prodigious child to a successful adult, adeptly navigating the financial realm, and foreshadows a future of significant achievements, with the added detail of his eyes being a bit sharper and the irises being brown.\""
      ]
     },
     "execution_count": 12,
     "metadata": {},
     "output_type": "execute_result"
    }
   ],
   "source": [
    "from gpt import edit_image\n",
    "revised_prompt = edit_image(\n",
    "    f\"{image_path}/09-01.png\",\n",
    "    {'윤현우': 'A 32-year-old man with a loyal demeanor and a sense of duty, wearing a neatly tailored office look. He has black hair styled in a clean, professional manner, glasses framing his sharp gaze, and his facial features are well-defined with an apparent dedication to his responsibilities.', '진도준': 'A 10-year-old boy who is very bright and sharp for his age, wearing neat and luxurious clothing. He has short, neatly combed hair, penetrating eyes that reflect his intelligence, and a posture that displays confidence. His outfit hints at his wealthy background, with a fine material blazer over a crisp shirt.', '성인 진도준': 'A 22-year-old man, smart and astute, dressed in polished and upscale attire. He has styled, dark hair giving him a suave appearance, eyes that carry a purposeful gleam of intelligence, and a composed demeanor that exudes confidence. His clothing is of high quality, showcasing a well-fitted suit that complements his slim, athletic build, further accentuating his affluent background.', '진양철': 'A 71-year-old man with a quirky character and insightful views about the future, donning sophisticated suits. He has silver hair, neatly combed back, and deep-set eyes that gleam with wisdom and a hint of sternness. His face carries wrinkles that tell stories of experience, decision-making, and power. His attire is impeccably tailored, reflecting his status and attention to detail, complementing his stately posture and commanding presence.'},\n",
    "    \"Anime style, vertical illustration: A 22-year-old Jin Do-jun, depicted as smart and astute, is shown deeply engrossed in a computer screen featuring the Google homepage next to a rising stock price graph. His dark hair is stylishly arranged to frame his face, and his eyes, made notably sharper, shine with a purposeful and more intense gleam of intelligence, underscoring his matured youth and the serious, determined expression on his face. His attire, polished and high-end, and his posture at the computer reflect a profound engagement and understanding of intricate investment tasks, blending ambition with experienced insight. This scene captures Jin Do-jun's evolution from a prodigious child to a successful adult, adeptly navigating the financial realm, and foreshadows a future of significant achievements.\",\n",
    "    \"성인 진도준의 눈매가 조금 더 날렵하고 눈동자 색은 갈색이야.\") #수정된 프롬프트내용\n",
    "revised_prompt"
   ]
  },
  {
   "cell_type": "markdown",
   "metadata": {},
   "source": [
    "# 나레이션 분류"
   ]
  },
  {
   "cell_type": "code",
   "execution_count": 13,
   "metadata": {},
   "outputs": [
    {
     "data": {
      "text/plain": [
       "[['인생 최악의 날,', '신하리의 사랑은 무너지고 말았다.'],\n",
       " ['단 하루로 모든 것이 바뀔 줄,', '누가 알았을까?'],\n",
       " ['더 자세한 내용은', \"'사내맞선' 에서!\"]]"
      ]
     },
     "execution_count": 13,
     "metadata": {},
     "output_type": "execute_result"
    }
   ],
   "source": [
    "subtitle, usage = get_subtitle(ret['narr'][:2],user_inputs['novel']['제목'])\n",
    "subtitle"
   ]
  },
  {
   "cell_type": "markdown",
   "metadata": {},
   "source": [
    "# 오디오 생성"
   ]
  },
  {
   "cell_type": "code",
   "execution_count": 14,
   "metadata": {},
   "outputs": [
    {
     "name": "stdout",
     "output_type": "stream",
     "text": [
      "['nmovie', 'nmovie', 'nmovie', 'nmovie']\n"
     ]
    },
    {
     "name": "stderr",
     "output_type": "stream",
     "text": [
      "100%|██████████| 2/2 [00:02<00:00,  1.31s/it]\n"
     ]
    },
    {
     "data": {
      "text/plain": [
       "['E:/SKT/shorts/test3_JBZ/audio/00-00.mp3',\n",
       " 'E:/SKT/shorts/test3_JBZ/audio/00-01.mp3',\n",
       " 'E:/SKT/shorts/test3_JBZ/audio/01-00.mp3',\n",
       " 'E:/SKT/shorts/test3_JBZ/audio/01-01.mp3']"
      ]
     },
     "execution_count": 14,
     "metadata": {},
     "output_type": "execute_result"
    }
   ],
   "source": [
    "audio_path_list = create_voice(audio_path,subtitle[:2],ret['char'])\n",
    "audio_path_list"
   ]
  },
  {
   "cell_type": "markdown",
   "metadata": {},
   "source": [
    "# 비디오 생성\n"
   ]
  },
  {
   "cell_type": "code",
   "execution_count": 29,
   "metadata": {},
   "outputs": [],
   "source": [
    "from shorts import create_video\n",
    "import glob"
   ]
  },
  {
   "cell_type": "code",
   "execution_count": 39,
   "metadata": {},
   "outputs": [
    {
     "name": "stdout",
     "output_type": "stream",
     "text": [
      "이미지 수 : 16 , 나레이션 수 : 16  효과 수 : 16\n"
     ]
    },
    {
     "name": "stderr",
     "output_type": "stream",
     "text": [
      "100%|██████████| 15/15 [02:59<00:00, 11.98s/it]\n",
      "100%|██████████| 31/31 [00:00<00:00, 768.63it/s]\n"
     ]
    },
    {
     "name": "stdout",
     "output_type": "stream",
     "text": [
      "Moviepy - Building video E:/SKT/shorts/test2_JBZ/result.mp4.\n",
      "MoviePy - Writing audio in resultTEMP_MPY_wvf_snd.mp3\n"
     ]
    },
    {
     "name": "stderr",
     "output_type": "stream",
     "text": [
      "                                                                      \r"
     ]
    },
    {
     "name": "stdout",
     "output_type": "stream",
     "text": [
      "MoviePy - Done.\n",
      "Moviepy - Writing video E:/SKT/shorts/test2_JBZ/result.mp4\n",
      "\n"
     ]
    },
    {
     "name": "stderr",
     "output_type": "stream",
     "text": [
      "                                                                 \r"
     ]
    },
    {
     "name": "stdout",
     "output_type": "stream",
     "text": [
      "Moviepy - Done !\n",
      "Moviepy - video ready E:/SKT/shorts/test2_JBZ/result.mp4\n"
     ]
    }
   ],
   "source": [
    "create_video(image_path_list,audio_path_list,subtitle,ret['vfx'],f\"{root_path}/BGM.m4a\",f\"{root_path}/{novel_id}/result.mp4\",True,0.5)"
   ]
  },
  {
   "cell_type": "markdown",
   "metadata": {},
   "source": [
    "#준"
   ]
  },
  {
   "cell_type": "code",
   "execution_count": 1,
   "metadata": {},
   "outputs": [],
   "source": [
    "subtitle = [['성운 기업에 다니는',  '사랑스럽고 예쁜 신하리'],\n",
    " ['하리의 단짝 친구 영서는', '하리에게 부탁을 하는데'],\n",
    " [''],\n",
    " ['하리는 차이기 위해', '핑크 가발과 진한 화장을 한다'],\n",
    " ['워커홀릭 강태무는', '누가 나오든 결혼을 다짐한다.'],\n",
    " ['하리는 아무 말이나 내뱉다가', '태무가 자신의 회사 사장임을 알게 된다'],\n",
    " [''],\n",
    " ['다짐한 것은 무조건 하는 태무는', '바로 프로포즈를 한다'],\n",
    " ['이 소식을 들은 영서의 집안은','축제 분위기였고'],\n",
    " ['하리는 영서인척', '다시 한번 태무를 만나 따진다.'],\n",
    " ['과연 하리는 무사히 회사를 다닐 수 있을까?', '사내맞선'],\n",
    " ['더 자세한 내용은',\"'사내맞선' 에서!\"]]"
   ]
  },
  {
   "cell_type": "code",
   "execution_count": 2,
   "metadata": {},
   "outputs": [],
   "source": [
    "import random,glob"
   ]
  },
  {
   "cell_type": "code",
   "execution_count": 3,
   "metadata": {},
   "outputs": [],
   "source": [
    "import os\n",
    "\n",
    "novel_id = \"ver4\"\n",
    "root_path = \"E:/SKT/shorts\"\n",
    "\n",
    "image_path = f\"{root_path}/{novel_id}/image\" # 이미지 파일 저장경로\n",
    "audio_path = f\"{root_path}/{novel_id}/audio\" # 오디오 파일 저장경로\n",
    "character_path = f\"{root_path}/{novel_id}/character\" # 캐릭터 입력 이미지\n",
    "\n",
    "if os.path.exists(f\"{root_path}/{novel_id}\") == False:\n",
    "    os.makedirs(image_path,exist_ok=True)\n",
    "    os.makedirs(audio_path,exist_ok=True)\n",
    "    os.makedirs(character_path,exist_ok=True)\n"
   ]
  },
  {
   "cell_type": "code",
   "execution_count": 4,
   "metadata": {},
   "outputs": [
    {
     "data": {
      "text/plain": [
       "(11, 22, 12)"
      ]
     },
     "execution_count": 4,
     "metadata": {},
     "output_type": "execute_result"
    }
   ],
   "source": [
    "image_path_list = sorted(glob.glob(f\"{image_path}/*\"))\n",
    "audio_path_list = sorted(glob.glob(f\"{audio_path}/*\"))\n",
    "subtitle = subtitle\n",
    "len(image_path_list),len(audio_path_list),len(subtitle)\n"
   ]
  },
  {
   "cell_type": "code",
   "execution_count": 5,
   "metadata": {},
   "outputs": [
    {
     "data": {
      "text/plain": [
       "(['눈 깜빡임 효과',\n",
       "  '눈 깜빡임 효과',\n",
       "  '페이드 아웃',\n",
       "  '눈 깜빡임 효과',\n",
       "  '없음',\n",
       "  '페이드 아웃',\n",
       "  '없음',\n",
       "  '눈 깜빡임 효과',\n",
       "  '줌 인',\n",
       "  '갈라짐 효과',\n",
       "  '갈라짐 효과'],\n",
       " 11)"
      ]
     },
     "execution_count": 5,
     "metadata": {},
     "output_type": "execute_result"
    }
   ],
   "source": [
    "effects = []\n",
    "vfx_name = [\n",
    "    \"없음\",\n",
    "    \"페이드 인\",\n",
    "    \"페이드 아웃\",\n",
    "    \"줌 인\",\n",
    "    \"줌 아웃\",\n",
    "    \"눈 깜빡임 효과\",\n",
    "    \"갈라짐 효과\",\n",
    "    \"배경 없이 나레이션만\"\n",
    "]\n",
    "for i in range(len(image_path_list)):\n",
    "    if i!=3:\n",
    "        effects.append(vfx_name[random.randint(0,len(vfx_name)-2)])\n",
    "    else :\n",
    "        effects.append(\"눈 깜빡임 효과\")\n",
    "effects,len(effects)"
   ]
  },
  {
   "cell_type": "code",
   "execution_count": 6,
   "metadata": {},
   "outputs": [],
   "source": [
    "effects = ['떨림 효과',\n",
    "  '페이드 아웃',\n",
    "  '없음',\n",
    "  '페이드 인',\n",
    "  '줌 인',\n",
    "  '줌 아웃',\n",
    "  '없음',\n",
    "  '페이드 인',\n",
    "  '줌 인',\n",
    "  '페이드 아웃',\n",
    "  '줌 아웃']"
   ]
  },
  {
   "cell_type": "code",
   "execution_count": 7,
   "metadata": {},
   "outputs": [],
   "source": [
    "from shorts import create_video"
   ]
  },
  {
   "cell_type": "code",
   "execution_count": 8,
   "metadata": {},
   "outputs": [
    {
     "name": "stdout",
     "output_type": "stream",
     "text": [
      "(1792, 1024, 3)\n",
      "이미지 수 : 1 , 나레이션 수 : 1  효과 수 : 1\n"
     ]
    },
    {
     "name": "stderr",
     "output_type": "stream",
     "text": [
      "0it [00:00, ?it/s]\n",
      "100%|██████████| 1/1 [00:00<00:00, 999.12it/s]\n"
     ]
    },
    {
     "name": "stdout",
     "output_type": "stream",
     "text": [
      "Moviepy - Building video E:/SKT/shorts/ver4/result.mp4.\n",
      "MoviePy - Writing audio in resultTEMP_MPY_wvf_snd.mp3\n"
     ]
    },
    {
     "name": "stderr",
     "output_type": "stream",
     "text": [
      "                                                                 \r"
     ]
    },
    {
     "name": "stdout",
     "output_type": "stream",
     "text": [
      "MoviePy - Done.\n",
      "Moviepy - Writing video E:/SKT/shorts/ver4/result.mp4\n",
      "\n"
     ]
    },
    {
     "name": "stderr",
     "output_type": "stream",
     "text": [
      "                                                               \r"
     ]
    },
    {
     "name": "stdout",
     "output_type": "stream",
     "text": [
      "Moviepy - Done !\n",
      "Moviepy - video ready E:/SKT/shorts/ver4/result.mp4\n"
     ]
    }
   ],
   "source": [
    "create_video(image_path_list[:1],audio_path_list[:2],subtitle[:1],effects[:1],f\"{root_path}/bright.mp3\",f\"{root_path}/{novel_id}/result.mp4\",last_narr=False,bgm_volume=1)"
   ]
  },
  {
   "cell_type": "code",
   "execution_count": null,
   "metadata": {},
   "outputs": [],
   "source": []
  }
 ],
 "metadata": {
  "kernelspec": {
   "display_name": "gpt",
   "language": "python",
   "name": "python3"
  },
  "language_info": {
   "codemirror_mode": {
    "name": "ipython",
    "version": 3
   },
   "file_extension": ".py",
   "mimetype": "text/x-python",
   "name": "python",
   "nbconvert_exporter": "python",
   "pygments_lexer": "ipython3",
   "version": "3.7.9"
  }
 },
 "nbformat": 4,
 "nbformat_minor": 2
}
