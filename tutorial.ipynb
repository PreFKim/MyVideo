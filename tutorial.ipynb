{
 "cells": [
  {
   "cell_type": "code",
   "execution_count": 1,
   "metadata": {},
   "outputs": [],
   "source": [
    "import os\n",
    "\n",
    "root_path = \"./novel\"\n",
    "novel_id = \"test1\"\n",
    "\n",
    "image_path = f\"{root_path}/{novel_id}/image\" # 이미지 파일 저장경로\n",
    "audio_path = f\"{root_path}/{novel_id}/audio\" # 오디오 파일 저장경로\n",
    "character_path = f\"{root_path}/{novel_id}/character\" # 캐릭터 입력 이미지\n",
    "\n",
    "if os.path.exists(f\"{root_path}/{novel_id}\") == False:\n",
    "    os.makedirs(image_path,exist_ok=True)\n",
    "    os.makedirs(audio_path,exist_ok=True)\n",
    "    os.makedirs(character_path,exist_ok=True)\n"
   ]
  },
  {
   "cell_type": "code",
   "execution_count": 2,
   "metadata": {},
   "outputs": [],
   "source": [
    "user_inputs = {\n",
    "    \"novel\" :{\n",
    "        \"제목\" : \"재벌집 막내아들\",\n",
    "        #\"장르\" : \"현대 판타지\",\n",
    "        \"강조요소\": \"회귀 전 윤현우의 행보와 억울함을 자세히 표현했으면 좋겠어.\\n윤현우가 진도준으로 회귀해.\\n장면이 지나감에 따라 달라지는 진도준의 나이를 표현해.\\n미래를 아는 진도준이 선택한 목장은 분당이야.\\n미래를 아는 진도준은 구글에 투자\",\n",
    "        \"줄거리\" : \"흙수저 출신 윤현우는 운이 좋게 대기업 '순양그룹'에 입사하여 재벌 3세들의 뒤치다꺼리를 하며 머슴처럼 일했다. 그렇게 회사 안에서 그의 입지는 커지고 회사의 신뢰를 받게 된다.\\n\\n그러던 어느날, 윤현우는 로열패밀리의 비자금 조성과 관련해 죄를 뒤집어쓰고 총에 맞아 생을 마감한다. 죽었다고 생각한 그 순간, 윤현우는 순양그룹 회장의 집을 가고있는 차안에서 순양 그룹의 막내 손자 진도준으로 다시 회귀한다.\\n\\n순양그룹의 창업주는 진양철 회장이고,막내 아들 진윤기는 가장 똑똑했으나 기업을 물려받기를 포기하고 영화감독이 되기를 희망했다가 영화배우 이해인과 결혼한 후 집안으로부터 버림받았다. 그래서 진양철 회장은 진윤기 가족을 마음에 들어하지 않는다. 이 진윤기의 둘째 아들 진도준으로 다시 태어났다. 상속과는 거리가 먼 재벌집 막내아들 진도준이 된 윤현우는 순양그룹을 통째로 집어삼키기 위한 복수극을 준비한다.\\n\\n진도준은 진양철에게 자신의 야망이 그룹경영에 있음을 차근차근 보여주기 시작한다. 할아버지의 모든 것을 갖고 싶다는 진심이 담긴 말을 들은 진양철은 1년간 시험에서 전과목 우수를 받는 조건으로 진짜 말을 사주기로 약속한다.\\n\\n1년간 전과목 우수를 받은 진도준의 약속을 지키기 위해 진양철은 지도를 펴고 어느 지역에 목장을 만들어줄지를 물었다. 진도준은 정부가 개발할 땅이 어디인지를 알고 있었기 때문에 분당 땅 8만평을 목장으로 선택한다.\\n\\n이 땅이 개발되어 140억의 돈을 벌었고, 10살의 진도준은 이 돈을 구글 등에 투자하여 몇 조가 되는 돈을 벌게 된다.\\n\\n성인이 된 진도준은 이렇게 투자해서 번 돈으로 '미라클 인베스트먼트'라는 투자회사를 세우고 정체를 숨긴 채 회사를 운영한다. 진도준은 갖고 싶은 기업이 부실기업이 되도록 덫을 놓고 그 기업을 인수하면서 순양그룹을 먹어버릴 힘을 키운다.\\n\\n진도준은 과연 자신을 죽인 범인을 찾고 순양그룹을 차지할 수 있을것인가?\"\n",
    "    },\n",
    "    \"characters\" : [\n",
    "        {\n",
    "            \"이름\" :  \"윤현우\",\n",
    "            \"나이\" :  \"32\",\n",
    "            \"성격\" : \"오너 일가에 대한 충성심을 지킴, 의리 있음\",\n",
    "            \"의상\" : \"단정한 오피스룩\",\n",
    "            #\"img\" : f\"{character_path}/윤현우.webp\"\n",
    "        },\n",
    "        {\n",
    "            \"이름\" : \"진도준\",\n",
    "            \"나이\" : \"10\",\n",
    "            \"성격\" : \"똘똘함\",\n",
    "            \"의상\" : \"단정하고 고급스러운 옷\",\n",
    "        },\n",
    "        {\n",
    "            \"이름\" : \"성인 진도준\",\n",
    "            \"나이\" : \"22\",\n",
    "            \"성격\" : \"똘똘함\",\n",
    "            \"의상\" : \"단정하고 고급스러운 옷\",\n",
    "        },\n",
    "        {\n",
    "            \"이름\" : \"진양철\",\n",
    "            \"나이\" : \"71\",\n",
    "            \"성격\" : \"괴팍함, 미래에 대한 통찰력 있음\",\n",
    "            \"의상\" : \"고급스러운 정장\",\n",
    "        }\n",
    "    ],\n",
    "    \"style\" : \"anime style\"\n",
    "}"
   ]
  },
  {
   "cell_type": "code",
   "execution_count": null,
   "metadata": {},
   "outputs": [],
   "source": [
    "from api.gpt import forward_gpt\n",
    "print(user_inputs['novel']['제목'])\n",
    "ret = forward_gpt(user_inputs=user_inputs)\n",
    "print(ret)\n",
    "# ret['narr']  # 장면별 나레이션 정보 (list형식 len = 15)\n",
    "# ret['scene'] # 장면 프롬프트 (list형식 len = 15)\n",
    "# ret['char']  # 캐릭터 프롬프트 (dict)\n",
    "# ret['vfx']   # 영상 효과 (list형식 len = 15)\n",
    "# ret['usage'] # API 사용량"
   ]
  },
  {
   "cell_type": "code",
   "execution_count": null,
   "metadata": {},
   "outputs": [],
   "source": [
    "# 비용 계산\n",
    "(ret['usage']['prompt_tokens']*0.01+ret['usage']['completion_tokens']*0.03)/1000"
   ]
  },
  {
   "cell_type": "markdown",
   "metadata": {},
   "source": [
    "# 이미지 생성"
   ]
  },
  {
   "cell_type": "code",
   "execution_count": null,
   "metadata": {},
   "outputs": [],
   "source": [
    "from api.gpt import create_image\n",
    "image_path_list = create_image(image_path=image_path,\n",
    "                               scene_prompts=ret['scene'],\n",
    "                               n=1)"
   ]
  },
  {
   "cell_type": "markdown",
   "metadata": {},
   "source": [
    "# 이미지 편집\n"
   ]
  },
  {
   "cell_type": "code",
   "execution_count": null,
   "metadata": {},
   "outputs": [],
   "source": [
    "from api.gpt import edit_image\n",
    "revised_prompt, usage = edit_image(filename=f\"{image_path}/00-00.png\",\n",
    "                                   character_prompt=ret['char'],\n",
    "                                   original_prompt=ret['scene'][0], # 원본 프롬프트\n",
    "                                   modification=\"상황에 대한 묘사를 적어주세요\")\n",
    "revised_prompt, usage"
   ]
  },
  {
   "cell_type": "markdown",
   "metadata": {},
   "source": [
    "# 나레이션 분류"
   ]
  },
  {
   "cell_type": "code",
   "execution_count": null,
   "metadata": {},
   "outputs": [],
   "source": [
    "from api.gpt import get_subtitle\n",
    "subtitles, usage = get_subtitle(narrations=ret['narr'], \n",
    "                                title=user_inputs['novel']['제목'], \n",
    "                                outro=True)\n",
    "subtitles, usage"
   ]
  },
  {
   "cell_type": "markdown",
   "metadata": {},
   "source": [
    "# 오디오 생성"
   ]
  },
  {
   "cell_type": "code",
   "execution_count": null,
   "metadata": {},
   "outputs": [],
   "source": [
    "from api.clova import create_voice\n",
    "audio_path_list, usage = create_voice(audio_path=audio_path, \n",
    "                                      subtitles=subtitles, \n",
    "                                      character_prompts=ret['char'])\n",
    "audio_path_list, usage"
   ]
  },
  {
   "cell_type": "markdown",
   "metadata": {},
   "source": [
    "# 비디오 생성\n"
   ]
  },
  {
   "cell_type": "code",
   "execution_count": null,
   "metadata": {},
   "outputs": [],
   "source": [
    "# 장면별로 생성된 각각의 n개의 이미지 중 하나 선택\n",
    "selected_idx = []\n",
    "selected_image_path_list = []\n",
    "for i in range(len(image_path_list)):\n",
    "    selected_image_path_list.append(f\"{image_path}/{i:02d}-{selected_idx[i]:02d}.png\")\n",
    "selected_image_path_list"
   ]
  },
  {
   "cell_type": "code",
   "execution_count": null,
   "metadata": {},
   "outputs": [],
   "source": [
    "from api.shorts import create_video\n",
    "\n",
    "create_video(save_path=f\"{root_path}/{novel_id}/result.mp4\",\n",
    "             image_path_list=selected_image_path_list,\n",
    "             audio_path_list=audio_path_list,\n",
    "             subtitles=subtitles,\n",
    "             effects=ret['vfx'],\n",
    "             bgm_path=f\"{root_path}/BGM.m4a\",\n",
    "             bgm_volume=0.5, # 원본 소리 크기\n",
    "             outro=True)"
   ]
  }
 ],
 "metadata": {
  "kernelspec": {
   "display_name": "gpt",
   "language": "python",
   "name": "python3"
  },
  "language_info": {
   "codemirror_mode": {
    "name": "ipython",
    "version": 3
   },
   "file_extension": ".py",
   "mimetype": "text/x-python",
   "name": "python",
   "nbconvert_exporter": "python",
   "pygments_lexer": "ipython3",
   "version": "3.8.0"
  }
 },
 "nbformat": 4,
 "nbformat_minor": 2
}
